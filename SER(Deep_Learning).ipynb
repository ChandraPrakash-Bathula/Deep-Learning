{
 "cells": [
  {
   "cell_type": "markdown",
   "metadata": {
    "colab_type": "text",
    "id": "CjWvnaQUrZmD"
   },
   "source": [
    "# Speech Emotion Recognition using the RAVDESS AND TESS dataset"
   ]
  },
  {
   "cell_type": "code",
   "execution_count": 4,
   "metadata": {
    "colab": {
     "base_uri": "https://localhost:8080/",
     "height": 228
    },
    "colab_type": "code",
    "id": "N3b7x9shnZwp",
    "outputId": "3c16d672-0775-48b3-ba3d-37825f42da05"
   },
   "outputs": [],
   "source": [
    "# !pip install librosa\n",
    "# !pip install matplotlib"
   ]
  },
  {
   "cell_type": "markdown",
   "metadata": {
    "colab_type": "text",
    "id": "ywPJyaHHpOGE"
   },
   "source": [
    "Loading one audio file from the drive using librosa.\n",
    "Librosa loads the audio file as a floating point time series."
   ]
  },
  {
   "cell_type": "code",
   "execution_count": 57,
   "metadata": {
    "colab": {},
    "colab_type": "code",
    "id": "aWgCbHxAn1_h"
   },
   "outputs": [],
   "source": [
    "import librosa\n",
    "from librosa import display\n",
    "\n",
    "data, sampling_rate = librosa.load('Audio_Song_Actors_01-24\\\\Actor_01/03-02-01-01-01-01-01.wav')"
   ]
  },
  {
   "cell_type": "markdown",
   "metadata": {
    "colab_type": "text",
    "id": "Vi77VvlppM5d"
   },
   "source": [
    "Plotting the audio file which was just loaded by librosa using waveplot function of librosa.This Function Plots the amplitude envelope of a waveform."
   ]
  },
  {
   "cell_type": "code",
   "execution_count": 58,
   "metadata": {
    "colab": {
     "base_uri": "https://localhost:8080/",
     "height": 367
    },
    "colab_type": "code",
    "id": "hZintfRxqK1A",
    "outputId": "bf38ea0c-a176-453b-9ddc-3e4bfb57f2a5"
   },
   "outputs": [
    {
     "data": {
      "text/plain": [
       "<matplotlib.collections.PolyCollection at 0x1ff4aeba8e0>"
      ]
     },
     "execution_count": 58,
     "metadata": {},
     "output_type": "execute_result"
    },
    {
     "data": {
      "image/png": "[encoded data removed]",
      "text/plain": [
       "<Figure size 864x288 with 1 Axes>"
      ]
     },
     "metadata": {
      "needs_background": "light"
     },
     "output_type": "display_data"
    }
   ],
   "source": [
    "# % pylab inline\n",
    "import matplotlib.pyplot as plt\n",
    "\n",
    "plt.figure(figsize=(12, 4))\n",
    "librosa.display.waveplot(data, sr=sampling_rate)"
   ]
  },
  {
   "cell_type": "markdown",
   "metadata": {
    "colab_type": "text",
    "id": "jPKKk4wEpMMW"
   },
   "source": [
    "# Load all files\n",
    "\n",
    "We will create our numpy array extracting Mel-frequency cepstral coefficients (MFCCs), while the classes to predict will be extracted from the name of the file (see the introductory section of this notebook to see the naming convention of the files of this dataset)."
   ]
  },
  {
   "cell_type": "code",
   "execution_count": 59,
   "metadata": {
    "colab": {
     "base_uri": "https://localhost:8080/",
     "height": 34
    },
    "colab_type": "code",
    "id": "ZdxY8LUotJCU",
    "outputId": "5e2390c6-afe1-4cea-c73b-db71200ebe49"
   },
   "outputs": [
    {
     "name": "stdout",
     "output_type": "stream",
     "text": [
      "--- Data loaded. Loading time: 297.16834712028503 seconds ---\n"
     ]
    }
   ],
   "source": [
    "import time\n",
    "import os\n",
    "import numpy as np\n",
    "path = 'Audio_Song_Actors_01-24/'\n",
    "lst = []\n",
    "\n",
    "start_time = time.time()\n",
    "\n",
    "for subdir, dirs, files in os.walk(path):\n",
    "    for file in files:\n",
    "        try:\n",
    "            #Load librosa array, obtain mfcss, store the file and the mcss information in a new array\n",
    "            X, sample_rate = librosa.load(os.path.join(subdir,file), res_type='kaiser_fast')\n",
    "            mfccs = np.mean(librosa.feature.mfcc(y=X, sr=sample_rate, n_mfcc=40).T,axis=0) \n",
    "            # The instruction below converts the labels (from 1 to 8) to a series from 0 to 7\n",
    "            # This is because our predictor needs to start from 0 otherwise it will try to predict also 0.\n",
    "            file = int(file[7:8]) - 1 \n",
    "            arr = mfccs, file\n",
    "            lst.append(arr)\n",
    "          # If the file is not valid, skip it\n",
    "        except ValueError:\n",
    "            continue\n",
    "\n",
    "print(\"--- Data loaded. Loading time: %s seconds ---\" % (time.time() - start_time))"
   ]
  },
  {
   "cell_type": "code",
   "execution_count": 60,
   "metadata": {
    "colab": {},
    "colab_type": "code",
    "id": "Mi8NEOUItS8f"
   },
   "outputs": [],
   "source": [
    "# Creating X and y: zip makes a list of all the first elements, and a list of all the second elements.\n",
    "X, y = zip(*lst)"
   ]
  },
  {
   "cell_type": "code",
   "execution_count": 61,
   "metadata": {
    "colab": {
     "base_uri": "https://localhost:8080/",
     "height": 34
    },
    "colab_type": "code",
    "id": "Gd6hsVYjukTK",
    "outputId": "8de85110-e0d5-4411-a5c6-523c117176dc"
   },
   "outputs": [
    {
     "data": {
      "text/plain": [
       "((2452, 40), (2452,))"
      ]
     },
     "execution_count": 61,
     "metadata": {},
     "output_type": "execute_result"
    }
   ],
   "source": [
    "import numpy as np\n",
    "X = np.asarray(X)\n",
    "y = np.asarray(y)\n",
    "\n",
    "\n",
    "X.shape, y.shape"
   ]
  },
  {
   "cell_type": "code",
   "execution_count": 62,
   "metadata": {
    "colab": {},
    "colab_type": "code",
    "id": "hK5XIQ4hunMH"
   },
   "outputs": [],
   "source": [
    "# Saving joblib files to not load them again with the loop above\n",
    "\n",
    "import joblib\n",
    "\n",
    "X_name = 'X.joblib'\n",
    "y_name = 'y.joblib'\n",
    "save_dir = 'C:\\\\Users\\\\ck kalyani\\\\OneDrive\\\\Desktop\\\\deepLearning\\\\dataset_features'\n",
    "\n",
    "savedX = joblib.dump(X, os.path.join(save_dir, X_name))\n",
    "savedy = joblib.dump(y, os.path.join(save_dir, y_name))"
   ]
  },
  {
   "cell_type": "code",
   "execution_count": 63,
   "metadata": {
    "colab": {},
    "colab_type": "code",
    "id": "iMEMavtnu2LB"
   },
   "outputs": [],
   "source": [
    "# Loading saved models\n",
    "import joblib\n",
    "X = joblib.load('dataset_features/X.joblib')\n",
    "y = joblib.load('dataset_features/y.joblib')"
   ]
  },
  {
   "cell_type": "markdown",
   "metadata": {
    "colab_type": "text",
    "id": "Agw-3KN1sDhh"
   },
   "source": [
    "# Decision Tree Classifier\n",
    "\n",
    "To make a first attempt in accomplishing this classification task I chose a decision tree:"
   ]
  },
  {
   "cell_type": "code",
   "execution_count": 64,
   "metadata": {
    "colab": {},
    "colab_type": "code",
    "id": "CR4t166IxGdi"
   },
   "outputs": [],
   "source": [
    "from sklearn.model_selection import train_test_split\n",
    "\n",
    "X_train, X_test, y_train, y_test = train_test_split(X,y, test_size=0.33, random_state=42)"
   ]
  },
  {
   "cell_type": "code",
   "execution_count": 65,
   "metadata": {
    "colab": {},
    "colab_type": "code",
    "id": "L_aIVuq9xKgn"
   },
   "outputs": [],
   "source": [
    "from sklearn.tree import DecisionTreeClassifier"
   ]
  },
  {
   "cell_type": "code",
   "execution_count": 66,
   "metadata": {
    "colab": {},
    "colab_type": "code",
    "id": "PRh12VK70wwh"
   },
   "outputs": [],
   "source": [
    "dtree = DecisionTreeClassifier()"
   ]
  },
  {
   "cell_type": "code",
   "execution_count": 67,
   "metadata": {
    "colab": {
     "base_uri": "https://localhost:8080/",
     "height": 122
    },
    "colab_type": "code",
    "id": "jBbgNaz50zPt",
    "outputId": "9c63f143-8108-426a-d682-36284c1634dc"
   },
   "outputs": [
    {
     "data": {
      "text/plain": [
       "DecisionTreeClassifier()"
      ]
     },
     "execution_count": 67,
     "metadata": {},
     "output_type": "execute_result"
    }
   ],
   "source": [
    "dtree.fit(X_train, y_train)"
   ]
  },
  {
   "cell_type": "code",
   "execution_count": 68,
   "metadata": {
    "colab": {},
    "colab_type": "code",
    "id": "xtx3jG6v01v1"
   },
   "outputs": [],
   "source": [
    "predictions = dtree.predict(X_test)"
   ]
  },
  {
   "cell_type": "code",
   "execution_count": 69,
   "metadata": {
    "colab": {
     "base_uri": "https://localhost:8080/",
     "height": 281
    },
    "colab_type": "code",
    "id": "mbWRTHjm06Hn",
    "outputId": "7510b3bb-df6e-4ce1-8ef2-94b019570bc7"
   },
   "outputs": [
    {
     "name": "stdout",
     "output_type": "stream",
     "text": [
      "              precision    recall  f1-score   support\n",
      "\n",
      "           0       0.40      0.42      0.41        59\n",
      "           1       0.61      0.61      0.61       131\n",
      "           2       0.46      0.48      0.47       128\n",
      "           3       0.41      0.38      0.39       123\n",
      "           4       0.55      0.54      0.54       121\n",
      "           5       0.49      0.48      0.49       125\n",
      "           6       0.35      0.31      0.33        59\n",
      "           7       0.33      0.39      0.36        64\n",
      "\n",
      "    accuracy                           0.47       810\n",
      "   macro avg       0.45      0.45      0.45       810\n",
      "weighted avg       0.47      0.47      0.47       810\n",
      "\n"
     ]
    }
   ],
   "source": [
    "from sklearn.metrics import classification_report,confusion_matrix\n",
    "print(classification_report(y_test,predictions))"
   ]
  },
  {
   "cell_type": "markdown",
   "metadata": {
    "colab_type": "text",
    "id": "t9eqMHV3S8i6"
   },
   "source": [
    "# Neural network"
   ]
  },
  {
   "cell_type": "code",
   "execution_count": 70,
   "metadata": {
    "colab": {},
    "colab_type": "code",
    "id": "nIhRgcH3B0gu"
   },
   "outputs": [],
   "source": [
    "import numpy as np\n",
    "x_traincnn = np.expand_dims(X_train, axis=2)\n",
    "x_testcnn = np.expand_dims(X_test, axis=2)"
   ]
  },
  {
   "cell_type": "code",
   "execution_count": 71,
   "metadata": {
    "colab": {
     "base_uri": "https://localhost:8080/",
     "height": 35
    },
    "colab_type": "code",
    "id": "XRg78iarB1OI",
    "outputId": "06b0191f-1dcd-416e-f0e3-01393bb73164"
   },
   "outputs": [
    {
     "data": {
      "text/plain": [
       "((1642, 40, 1), (810, 40, 1))"
      ]
     },
     "execution_count": 71,
     "metadata": {},
     "output_type": "execute_result"
    }
   ],
   "source": [
    "x_traincnn.shape, x_testcnn.shape"
   ]
  },
  {
   "cell_type": "code",
   "execution_count": 72,
   "metadata": {},
   "outputs": [],
   "source": [
    "# !pip install keras"
   ]
  },
  {
   "cell_type": "code",
   "execution_count": 39,
   "metadata": {},
   "outputs": [],
   "source": [
    "# !pip install tensorflow"
   ]
  },
  {
   "cell_type": "code",
   "execution_count": 73,
   "metadata": {
    "colab": {
     "base_uri": "https://localhost:8080/",
     "height": 35
    },
    "colab_type": "code",
    "id": "LgYdhmGJB4ur",
    "outputId": "7e07341f-fbad-474c-fa50-b88991b23ebe"
   },
   "outputs": [
    {
     "name": "stderr",
     "output_type": "stream",
     "text": [
      "C:\\Users\\ck kalyani\\anaconda3\\lib\\site-packages\\tensorflow\\python\\keras\\optimizer_v2\\optimizer_v2.py:374: UserWarning: The `lr` argument is deprecated, use `learning_rate` instead.\n",
      "  warnings.warn(\n"
     ]
    }
   ],
   "source": [
    "import keras\n",
    "import numpy as np\n",
    "import matplotlib.pyplot as plt\n",
    "import tensorflow as tf\n",
    "from keras.preprocessing import sequence\n",
    "from keras.models import Sequential\n",
    "from keras.layers import Dense, Embedding\n",
    "from tensorflow.keras.utils import to_categorical\n",
    "from keras.layers import Input, Flatten, Dropout, Activation\n",
    "from keras.layers import Conv1D, MaxPooling1D\n",
    "from keras.models import Model\n",
    "from keras.callbacks import ModelCheckpoint\n",
    "from tensorflow.keras import optimizers\n",
    "\n",
    "model = Sequential()\n",
    "\n",
    "model.add(Conv1D(64, 5,padding='same',\n",
    "                 input_shape=(40,1)))\n",
    "model.add(Activation('relu'))\n",
    "model.add(Dropout(0.1))\n",
    "model.add(MaxPooling1D(pool_size=(4)))\n",
    "model.add(Conv1D(128, 5,padding='same',))\n",
    "model.add(Activation('relu'))\n",
    "model.add(Dropout(0.1))\n",
    "model.add(MaxPooling1D(pool_size=(4)))\n",
    "model.add(Conv1D(256, 5,padding='same',))\n",
    "model.add(Activation('relu'))\n",
    "model.add(Dropout(0.1))\n",
    "model.add(Flatten())\n",
    "model.add(Dense(8))\n",
    "model.add(Activation('softmax'))\n",
    "opt = optimizers.RMSprop(lr=0.00005, rho=0.9, epsilon=1e-07, decay=0.0)"
   ]
  },
  {
   "cell_type": "code",
   "execution_count": 41,
   "metadata": {
    "colab": {
     "base_uri": "https://localhost:8080/",
     "height": 657
    },
    "colab_type": "code",
    "id": "ImZFafVANMP_",
    "outputId": "d03e9f1d-9bd0-4a99-f9be-cf9b889d679a"
   },
   "outputs": [
    {
     "name": "stdout",
     "output_type": "stream",
     "text": [
      "Model: \"sequential\"\n",
      "_________________________________________________________________\n",
      "Layer (type)                 Output Shape              Param #   \n",
      "=================================================================\n",
      "conv1d (Conv1D)              (None, 40, 64)            384       \n",
      "_________________________________________________________________\n",
      "activation (Activation)      (None, 40, 64)            0         \n",
      "_________________________________________________________________\n",
      "dropout (Dropout)            (None, 40, 64)            0         \n",
      "_________________________________________________________________\n",
      "max_pooling1d (MaxPooling1D) (None, 10, 64)            0         \n",
      "_________________________________________________________________\n",
      "conv1d_1 (Conv1D)            (None, 10, 128)           41088     \n",
      "_________________________________________________________________\n",
      "activation_1 (Activation)    (None, 10, 128)           0         \n",
      "_________________________________________________________________\n",
      "dropout_1 (Dropout)          (None, 10, 128)           0         \n",
      "_________________________________________________________________\n",
      "max_pooling1d_1 (MaxPooling1 (None, 2, 128)            0         \n",
      "_________________________________________________________________\n",
      "conv1d_2 (Conv1D)            (None, 2, 256)            164096    \n",
      "_________________________________________________________________\n",
      "activation_2 (Activation)    (None, 2, 256)            0         \n",
      "_________________________________________________________________\n",
      "dropout_2 (Dropout)          (None, 2, 256)            0         \n",
      "_________________________________________________________________\n",
      "flatten (Flatten)            (None, 512)               0         \n",
      "_________________________________________________________________\n",
      "dense (Dense)                (None, 8)                 4104      \n",
      "_________________________________________________________________\n",
      "activation_3 (Activation)    (None, 8)                 0         \n",
      "=================================================================\n",
      "Total params: 209,672\n",
      "Trainable params: 209,672\n",
      "Non-trainable params: 0\n",
      "_________________________________________________________________\n"
     ]
    }
   ],
   "source": [
    "model.summary()"
   ]
  },
  {
   "cell_type": "code",
   "execution_count": 74,
   "metadata": {
    "colab": {},
    "colab_type": "code",
    "id": "s8LuQtKzON7i"
   },
   "outputs": [],
   "source": [
    "model.compile(loss='sparse_categorical_crossentropy',\n",
    "              optimizer=opt,\n",
    "              metrics=['accuracy'])"
   ]
  },
  {
   "cell_type": "code",
   "execution_count": 75,
   "metadata": {
    "colab": {
     "base_uri": "https://localhost:8080/",
     "height": 1000
    },
    "colab_type": "code",
    "id": "cQKYfMONOow7",
    "outputId": "6fc8e1ad-5271-4f86-f238-fee2045ade1e",
    "scrolled": false
   },
   "outputs": [
    {
     "name": "stdout",
     "output_type": "stream",
     "text": [
      "Epoch 1/200\n",
      "103/103 [==============================] - 5s 15ms/step - loss: 6.6446 - accuracy: 0.1118 - val_loss: 2.3356 - val_accuracy: 0.1531\n",
      "Epoch 2/200\n",
      "103/103 [==============================] - 1s 7ms/step - loss: 4.4264 - accuracy: 0.1365 - val_loss: 2.3213 - val_accuracy: 0.1605\n",
      "Epoch 3/200\n",
      "103/103 [==============================] - 1s 7ms/step - loss: 3.7178 - accuracy: 0.1435 - val_loss: 2.1580 - val_accuracy: 0.1815\n",
      "Epoch 4/200\n",
      "103/103 [==============================] - 1s 8ms/step - loss: 3.0540 - accuracy: 0.1698 - val_loss: 1.9591 - val_accuracy: 0.2148\n",
      "Epoch 5/200\n",
      "103/103 [==============================] - 1s 8ms/step - loss: 2.7401 - accuracy: 0.1699 - val_loss: 2.0720 - val_accuracy: 0.1654\n",
      "Epoch 6/200\n",
      "103/103 [==============================] - 1s 7ms/step - loss: 2.5385 - accuracy: 0.1989 - val_loss: 1.9290 - val_accuracy: 0.2481\n",
      "Epoch 7/200\n",
      "103/103 [==============================] - 1s 7ms/step - loss: 2.3700 - accuracy: 0.1882 - val_loss: 1.8429 - val_accuracy: 0.2765\n",
      "Epoch 8/200\n",
      "103/103 [==============================] - 1s 8ms/step - loss: 2.2578 - accuracy: 0.1836 - val_loss: 1.8367 - val_accuracy: 0.2605\n",
      "Epoch 9/200\n",
      "103/103 [==============================] - 1s 9ms/step - loss: 2.1458 - accuracy: 0.2250 - val_loss: 1.8191 - val_accuracy: 0.3173\n",
      "Epoch 10/200\n",
      "103/103 [==============================] - 1s 9ms/step - loss: 2.0759 - accuracy: 0.2178 - val_loss: 1.8451 - val_accuracy: 0.2605\n",
      "Epoch 11/200\n",
      "103/103 [==============================] - 1s 9ms/step - loss: 2.0337 - accuracy: 0.2278 - val_loss: 1.7855 - val_accuracy: 0.3123\n",
      "Epoch 12/200\n",
      "103/103 [==============================] - 1s 9ms/step - loss: 1.9507 - accuracy: 0.2621 - val_loss: 1.7886 - val_accuracy: 0.3000\n",
      "Epoch 13/200\n",
      "103/103 [==============================] - 1s 10ms/step - loss: 1.9689 - accuracy: 0.2327 - val_loss: 1.7980 - val_accuracy: 0.2765\n",
      "Epoch 14/200\n",
      "103/103 [==============================] - 1s 11ms/step - loss: 1.9181 - accuracy: 0.2578 - val_loss: 1.7566 - val_accuracy: 0.2901\n",
      "Epoch 15/200\n",
      "103/103 [==============================] - 1s 10ms/step - loss: 1.9143 - accuracy: 0.2713 - val_loss: 1.7809 - val_accuracy: 0.2815\n",
      "Epoch 16/200\n",
      "103/103 [==============================] - 1s 9ms/step - loss: 1.8771 - accuracy: 0.2848 - val_loss: 1.7387 - val_accuracy: 0.3247\n",
      "Epoch 17/200\n",
      "103/103 [==============================] - 1s 11ms/step - loss: 1.8778 - accuracy: 0.2565 - val_loss: 1.7400 - val_accuracy: 0.3407\n",
      "Epoch 18/200\n",
      "103/103 [==============================] - 1s 10ms/step - loss: 1.8523 - accuracy: 0.2670 - val_loss: 1.7309 - val_accuracy: 0.2963\n",
      "Epoch 19/200\n",
      "103/103 [==============================] - 2s 18ms/step - loss: 1.8225 - accuracy: 0.2845 - val_loss: 1.7197 - val_accuracy: 0.2975\n",
      "Epoch 20/200\n",
      "103/103 [==============================] - 1s 11ms/step - loss: 1.7917 - accuracy: 0.3171 - val_loss: 1.7012 - val_accuracy: 0.3716\n",
      "Epoch 21/200\n",
      "103/103 [==============================] - 1s 12ms/step - loss: 1.7816 - accuracy: 0.2972 - val_loss: 1.6681 - val_accuracy: 0.3864\n",
      "Epoch 22/200\n",
      "103/103 [==============================] - 1s 10ms/step - loss: 1.7935 - accuracy: 0.3051 - val_loss: 1.6706 - val_accuracy: 0.3383\n",
      "Epoch 23/200\n",
      "103/103 [==============================] - 1s 10ms/step - loss: 1.7827 - accuracy: 0.2960 - val_loss: 1.6464 - val_accuracy: 0.3765\n",
      "Epoch 24/200\n",
      "103/103 [==============================] - 1s 9ms/step - loss: 1.7449 - accuracy: 0.3339 - val_loss: 1.6542 - val_accuracy: 0.3741\n",
      "Epoch 25/200\n",
      "103/103 [==============================] - 1s 9ms/step - loss: 1.7904 - accuracy: 0.3167 - val_loss: 1.6352 - val_accuracy: 0.3778\n",
      "Epoch 26/200\n",
      "103/103 [==============================] - 1s 10ms/step - loss: 1.7393 - accuracy: 0.3158 - val_loss: 1.6225 - val_accuracy: 0.3914\n",
      "Epoch 27/200\n",
      "103/103 [==============================] - 1s 10ms/step - loss: 1.7618 - accuracy: 0.3264 - val_loss: 1.6058 - val_accuracy: 0.4296\n",
      "Epoch 28/200\n",
      "103/103 [==============================] - 1s 8ms/step - loss: 1.7015 - accuracy: 0.3183 - val_loss: 1.6062 - val_accuracy: 0.4136\n",
      "Epoch 29/200\n",
      "103/103 [==============================] - 1s 7ms/step - loss: 1.6987 - accuracy: 0.3689 - val_loss: 1.5974 - val_accuracy: 0.4160\n",
      "Epoch 30/200\n",
      "103/103 [==============================] - 1s 8ms/step - loss: 1.6838 - accuracy: 0.3626 - val_loss: 1.5990 - val_accuracy: 0.3827\n",
      "Epoch 31/200\n",
      "103/103 [==============================] - 1s 8ms/step - loss: 1.6476 - accuracy: 0.3735 - val_loss: 1.5544 - val_accuracy: 0.4210\n",
      "Epoch 32/200\n",
      "103/103 [==============================] - 1s 7ms/step - loss: 1.6300 - accuracy: 0.3689 - val_loss: 1.5594 - val_accuracy: 0.4173\n",
      "Epoch 33/200\n",
      "103/103 [==============================] - 1s 7ms/step - loss: 1.6405 - accuracy: 0.3487 - val_loss: 1.5845 - val_accuracy: 0.4222\n",
      "Epoch 34/200\n",
      "103/103 [==============================] - 1s 7ms/step - loss: 1.6214 - accuracy: 0.3729 - val_loss: 1.5421 - val_accuracy: 0.4444\n",
      "Epoch 35/200\n",
      "103/103 [==============================] - 1s 7ms/step - loss: 1.6392 - accuracy: 0.3591 - val_loss: 1.5362 - val_accuracy: 0.4494\n",
      "Epoch 36/200\n",
      "103/103 [==============================] - 1s 8ms/step - loss: 1.6256 - accuracy: 0.3774 - val_loss: 1.5228 - val_accuracy: 0.4358\n",
      "Epoch 37/200\n",
      "103/103 [==============================] - 1s 8ms/step - loss: 1.6142 - accuracy: 0.3702 - val_loss: 1.4977 - val_accuracy: 0.4432\n",
      "Epoch 38/200\n",
      "103/103 [==============================] - 1s 7ms/step - loss: 1.5602 - accuracy: 0.3972 - val_loss: 1.5075 - val_accuracy: 0.4444\n",
      "Epoch 39/200\n",
      "103/103 [==============================] - 1s 7ms/step - loss: 1.5583 - accuracy: 0.3955 - val_loss: 1.4802 - val_accuracy: 0.4630\n",
      "Epoch 40/200\n",
      "103/103 [==============================] - 1s 7ms/step - loss: 1.5545 - accuracy: 0.4275 - val_loss: 1.4791 - val_accuracy: 0.4580\n",
      "Epoch 41/200\n",
      "103/103 [==============================] - 1s 7ms/step - loss: 1.5414 - accuracy: 0.4020 - val_loss: 1.4625 - val_accuracy: 0.4469\n",
      "Epoch 42/200\n",
      "103/103 [==============================] - 1s 11ms/step - loss: 1.5257 - accuracy: 0.4279 - val_loss: 1.4334 - val_accuracy: 0.4815\n",
      "Epoch 43/200\n",
      "103/103 [==============================] - 1s 8ms/step - loss: 1.5169 - accuracy: 0.4238 - val_loss: 1.4394 - val_accuracy: 0.4926\n",
      "Epoch 44/200\n",
      "103/103 [==============================] - 1s 8ms/step - loss: 1.5179 - accuracy: 0.4299 - val_loss: 1.4264 - val_accuracy: 0.4802\n",
      "Epoch 45/200\n",
      "103/103 [==============================] - 1s 8ms/step - loss: 1.4773 - accuracy: 0.4237 - val_loss: 1.4254 - val_accuracy: 0.4889\n",
      "Epoch 46/200\n",
      "103/103 [==============================] - 1s 8ms/step - loss: 1.4953 - accuracy: 0.4534 - val_loss: 1.3975 - val_accuracy: 0.5099\n",
      "Epoch 47/200\n",
      "103/103 [==============================] - 1s 8ms/step - loss: 1.5038 - accuracy: 0.4218 - val_loss: 1.4011 - val_accuracy: 0.5025\n",
      "Epoch 48/200\n",
      "103/103 [==============================] - 1s 8ms/step - loss: 1.4743 - accuracy: 0.4336 - val_loss: 1.4218 - val_accuracy: 0.4864\n",
      "Epoch 49/200\n",
      "103/103 [==============================] - 1s 8ms/step - loss: 1.4503 - accuracy: 0.4441 - val_loss: 1.4118 - val_accuracy: 0.4975\n",
      "Epoch 50/200\n",
      "103/103 [==============================] - 1s 7ms/step - loss: 1.4623 - accuracy: 0.4564 - val_loss: 1.3885 - val_accuracy: 0.5123\n",
      "Epoch 51/200\n",
      "103/103 [==============================] - 1s 7ms/step - loss: 1.4564 - accuracy: 0.4574 - val_loss: 1.3795 - val_accuracy: 0.5173\n",
      "Epoch 52/200\n",
      "103/103 [==============================] - 1s 7ms/step - loss: 1.4387 - accuracy: 0.4382 - val_loss: 1.3641 - val_accuracy: 0.5037\n",
      "Epoch 53/200\n",
      "103/103 [==============================] - 1s 7ms/step - loss: 1.4163 - accuracy: 0.4476 - val_loss: 1.3418 - val_accuracy: 0.5086\n",
      "Epoch 54/200\n",
      "103/103 [==============================] - 1s 7ms/step - loss: 1.4175 - accuracy: 0.4624 - val_loss: 1.4063 - val_accuracy: 0.4889\n",
      "Epoch 55/200\n",
      "103/103 [==============================] - 1s 8ms/step - loss: 1.4311 - accuracy: 0.4685 - val_loss: 1.3406 - val_accuracy: 0.5309\n",
      "Epoch 56/200\n",
      "103/103 [==============================] - 1s 8ms/step - loss: 1.3962 - accuracy: 0.4800 - val_loss: 1.3465 - val_accuracy: 0.5198\n",
      "Epoch 57/200\n",
      "103/103 [==============================] - 1s 10ms/step - loss: 1.3688 - accuracy: 0.4930 - val_loss: 1.3201 - val_accuracy: 0.5309\n"
     ]
    },
    {
     "name": "stdout",
     "output_type": "stream",
     "text": [
      "Epoch 58/200\n",
      "103/103 [==============================] - 1s 8ms/step - loss: 1.3716 - accuracy: 0.4799 - val_loss: 1.3259 - val_accuracy: 0.5148\n",
      "Epoch 59/200\n",
      "103/103 [==============================] - 1s 8ms/step - loss: 1.3983 - accuracy: 0.4633 - val_loss: 1.3224 - val_accuracy: 0.5136\n",
      "Epoch 60/200\n",
      "103/103 [==============================] - 1s 8ms/step - loss: 1.3705 - accuracy: 0.4776 - val_loss: 1.3081 - val_accuracy: 0.5432\n",
      "Epoch 61/200\n",
      "103/103 [==============================] - 1s 7ms/step - loss: 1.3241 - accuracy: 0.4956 - val_loss: 1.3130 - val_accuracy: 0.5272\n",
      "Epoch 62/200\n",
      "103/103 [==============================] - 1s 8ms/step - loss: 1.3481 - accuracy: 0.4739 - val_loss: 1.3062 - val_accuracy: 0.5432\n",
      "Epoch 63/200\n",
      "103/103 [==============================] - 1s 7ms/step - loss: 1.2917 - accuracy: 0.5205 - val_loss: 1.2936 - val_accuracy: 0.5370\n",
      "Epoch 64/200\n",
      "103/103 [==============================] - 1s 8ms/step - loss: 1.2854 - accuracy: 0.5190 - val_loss: 1.3239 - val_accuracy: 0.5185\n",
      "Epoch 65/200\n",
      "103/103 [==============================] - 1s 8ms/step - loss: 1.3349 - accuracy: 0.4955 - val_loss: 1.3033 - val_accuracy: 0.5210\n",
      "Epoch 66/200\n",
      "103/103 [==============================] - 1s 8ms/step - loss: 1.3104 - accuracy: 0.5141 - val_loss: 1.2734 - val_accuracy: 0.5494\n",
      "Epoch 67/200\n",
      "103/103 [==============================] - 1s 8ms/step - loss: 1.2759 - accuracy: 0.5291 - val_loss: 1.2764 - val_accuracy: 0.5469\n",
      "Epoch 68/200\n",
      "103/103 [==============================] - 1s 8ms/step - loss: 1.2943 - accuracy: 0.5312 - val_loss: 1.2605 - val_accuracy: 0.5457\n",
      "Epoch 69/200\n",
      "103/103 [==============================] - 1s 7ms/step - loss: 1.2924 - accuracy: 0.5391 - val_loss: 1.2723 - val_accuracy: 0.5272\n",
      "Epoch 70/200\n",
      "103/103 [==============================] - 1s 8ms/step - loss: 1.3367 - accuracy: 0.4979 - val_loss: 1.2483 - val_accuracy: 0.5617\n",
      "Epoch 71/200\n",
      "103/103 [==============================] - 1s 8ms/step - loss: 1.3443 - accuracy: 0.4915 - val_loss: 1.2456 - val_accuracy: 0.5481\n",
      "Epoch 72/200\n",
      "103/103 [==============================] - 1s 8ms/step - loss: 1.2849 - accuracy: 0.5079 - val_loss: 1.2494 - val_accuracy: 0.5469\n",
      "Epoch 73/200\n",
      "103/103 [==============================] - 1s 8ms/step - loss: 1.2754 - accuracy: 0.5359 - val_loss: 1.2556 - val_accuracy: 0.5481\n",
      "Epoch 74/200\n",
      "103/103 [==============================] - 1s 8ms/step - loss: 1.2523 - accuracy: 0.5436 - val_loss: 1.2762 - val_accuracy: 0.5346\n",
      "Epoch 75/200\n",
      "103/103 [==============================] - 1s 8ms/step - loss: 1.2940 - accuracy: 0.5296 - val_loss: 1.2325 - val_accuracy: 0.5531\n",
      "Epoch 76/200\n",
      "103/103 [==============================] - 1s 7ms/step - loss: 1.2332 - accuracy: 0.5477 - val_loss: 1.2388 - val_accuracy: 0.5432\n",
      "Epoch 77/200\n",
      "103/103 [==============================] - 1s 8ms/step - loss: 1.2380 - accuracy: 0.5356 - val_loss: 1.2348 - val_accuracy: 0.5531\n",
      "Epoch 78/200\n",
      "103/103 [==============================] - 1s 8ms/step - loss: 1.2483 - accuracy: 0.5222 - val_loss: 1.2290 - val_accuracy: 0.5519\n",
      "Epoch 79/200\n",
      "103/103 [==============================] - 1s 8ms/step - loss: 1.2437 - accuracy: 0.5335 - val_loss: 1.2325 - val_accuracy: 0.5395\n",
      "Epoch 80/200\n",
      "103/103 [==============================] - 1s 8ms/step - loss: 1.2489 - accuracy: 0.5455 - val_loss: 1.2185 - val_accuracy: 0.5506\n",
      "Epoch 81/200\n",
      "103/103 [==============================] - 1s 8ms/step - loss: 1.2017 - accuracy: 0.5575 - val_loss: 1.2262 - val_accuracy: 0.5617\n",
      "Epoch 82/200\n",
      "103/103 [==============================] - 1s 8ms/step - loss: 1.2151 - accuracy: 0.5122 - val_loss: 1.1974 - val_accuracy: 0.5704\n",
      "Epoch 83/200\n",
      "103/103 [==============================] - 1s 8ms/step - loss: 1.2224 - accuracy: 0.5404 - val_loss: 1.1989 - val_accuracy: 0.5716\n",
      "Epoch 84/200\n",
      "103/103 [==============================] - 1s 8ms/step - loss: 1.2103 - accuracy: 0.5642 - val_loss: 1.2194 - val_accuracy: 0.5568\n",
      "Epoch 85/200\n",
      "103/103 [==============================] - 1s 8ms/step - loss: 1.1827 - accuracy: 0.5533 - val_loss: 1.1921 - val_accuracy: 0.5691\n",
      "Epoch 86/200\n",
      "103/103 [==============================] - 1s 8ms/step - loss: 1.1784 - accuracy: 0.5644 - val_loss: 1.2024 - val_accuracy: 0.5691\n",
      "Epoch 87/200\n",
      "103/103 [==============================] - 1s 8ms/step - loss: 1.2184 - accuracy: 0.5382 - val_loss: 1.1925 - val_accuracy: 0.5580\n",
      "Epoch 88/200\n",
      "103/103 [==============================] - 1s 8ms/step - loss: 1.2515 - accuracy: 0.5207 - val_loss: 1.2193 - val_accuracy: 0.5420\n",
      "Epoch 89/200\n",
      "103/103 [==============================] - 1s 7ms/step - loss: 1.1943 - accuracy: 0.5427 - val_loss: 1.1951 - val_accuracy: 0.5593\n",
      "Epoch 90/200\n",
      "103/103 [==============================] - 1s 8ms/step - loss: 1.1444 - accuracy: 0.5527 - val_loss: 1.1743 - val_accuracy: 0.5840\n",
      "Epoch 91/200\n",
      "103/103 [==============================] - 1s 8ms/step - loss: 1.1842 - accuracy: 0.5540 - val_loss: 1.1679 - val_accuracy: 0.5802\n",
      "Epoch 92/200\n",
      "103/103 [==============================] - 1s 8ms/step - loss: 1.1993 - accuracy: 0.5463 - val_loss: 1.1767 - val_accuracy: 0.5790\n",
      "Epoch 93/200\n",
      "103/103 [==============================] - 1s 8ms/step - loss: 1.1418 - accuracy: 0.5780 - val_loss: 1.1747 - val_accuracy: 0.5679\n",
      "Epoch 94/200\n",
      "103/103 [==============================] - 1s 7ms/step - loss: 1.1615 - accuracy: 0.5571 - val_loss: 1.1757 - val_accuracy: 0.5642\n",
      "Epoch 95/200\n",
      "103/103 [==============================] - 1s 7ms/step - loss: 1.1911 - accuracy: 0.5482 - val_loss: 1.1825 - val_accuracy: 0.5704\n",
      "Epoch 96/200\n",
      "103/103 [==============================] - 1s 7ms/step - loss: 1.1470 - accuracy: 0.5827 - val_loss: 1.1688 - val_accuracy: 0.5741\n",
      "Epoch 97/200\n",
      "103/103 [==============================] - 1s 7ms/step - loss: 1.1397 - accuracy: 0.5629 - val_loss: 1.1901 - val_accuracy: 0.5531\n",
      "Epoch 98/200\n",
      "103/103 [==============================] - 1s 7ms/step - loss: 1.1510 - accuracy: 0.5976 - val_loss: 1.1576 - val_accuracy: 0.5753\n",
      "Epoch 99/200\n",
      "103/103 [==============================] - 1s 8ms/step - loss: 1.1347 - accuracy: 0.5800 - val_loss: 1.1705 - val_accuracy: 0.5716\n",
      "Epoch 100/200\n",
      "103/103 [==============================] - 1s 7ms/step - loss: 1.1337 - accuracy: 0.5944 - val_loss: 1.1878 - val_accuracy: 0.5691\n",
      "Epoch 101/200\n",
      "103/103 [==============================] - 1s 8ms/step - loss: 1.1377 - accuracy: 0.5590 - val_loss: 1.1672 - val_accuracy: 0.5704\n",
      "Epoch 102/200\n",
      "103/103 [==============================] - 1s 8ms/step - loss: 1.1226 - accuracy: 0.5694 - val_loss: 1.1449 - val_accuracy: 0.5790\n",
      "Epoch 103/200\n",
      "103/103 [==============================] - 1s 8ms/step - loss: 1.1507 - accuracy: 0.5854 - val_loss: 1.1481 - val_accuracy: 0.5864\n",
      "Epoch 104/200\n",
      "103/103 [==============================] - 1s 8ms/step - loss: 1.1272 - accuracy: 0.5845 - val_loss: 1.1606 - val_accuracy: 0.5667\n",
      "Epoch 105/200\n",
      "103/103 [==============================] - 1s 8ms/step - loss: 1.1356 - accuracy: 0.5881 - val_loss: 1.1314 - val_accuracy: 0.5840\n",
      "Epoch 106/200\n",
      "103/103 [==============================] - 1s 8ms/step - loss: 1.0891 - accuracy: 0.5913 - val_loss: 1.1429 - val_accuracy: 0.5765\n",
      "Epoch 107/200\n",
      "103/103 [==============================] - 1s 8ms/step - loss: 1.1322 - accuracy: 0.5836 - val_loss: 1.1319 - val_accuracy: 0.5802\n",
      "Epoch 108/200\n",
      "103/103 [==============================] - 1s 8ms/step - loss: 1.0757 - accuracy: 0.5972 - val_loss: 1.1218 - val_accuracy: 0.5840\n",
      "Epoch 109/200\n",
      "103/103 [==============================] - 1s 8ms/step - loss: 1.1067 - accuracy: 0.5812 - val_loss: 1.1391 - val_accuracy: 0.5926\n",
      "Epoch 110/200\n",
      "103/103 [==============================] - 1s 7ms/step - loss: 1.0890 - accuracy: 0.5793 - val_loss: 1.1332 - val_accuracy: 0.5617\n",
      "Epoch 111/200\n",
      "103/103 [==============================] - 1s 7ms/step - loss: 1.0573 - accuracy: 0.6147 - val_loss: 1.1174 - val_accuracy: 0.5963\n",
      "Epoch 112/200\n",
      "103/103 [==============================] - 1s 8ms/step - loss: 1.0402 - accuracy: 0.6038 - val_loss: 1.1404 - val_accuracy: 0.5728\n",
      "Epoch 113/200\n",
      "103/103 [==============================] - 1s 8ms/step - loss: 1.0802 - accuracy: 0.5932 - val_loss: 1.1128 - val_accuracy: 0.5988\n",
      "Epoch 114/200\n",
      "103/103 [==============================] - 1s 8ms/step - loss: 1.0549 - accuracy: 0.6286 - val_loss: 1.1249 - val_accuracy: 0.5827\n"
     ]
    },
    {
     "name": "stdout",
     "output_type": "stream",
     "text": [
      "Epoch 115/200\n",
      "103/103 [==============================] - 1s 8ms/step - loss: 1.0828 - accuracy: 0.5800 - val_loss: 1.1239 - val_accuracy: 0.5889\n",
      "Epoch 116/200\n",
      "103/103 [==============================] - 1s 7ms/step - loss: 1.0557 - accuracy: 0.6169 - val_loss: 1.1279 - val_accuracy: 0.5741\n",
      "Epoch 117/200\n",
      "103/103 [==============================] - 1s 8ms/step - loss: 1.0421 - accuracy: 0.6264 - val_loss: 1.1039 - val_accuracy: 0.6037\n",
      "Epoch 118/200\n",
      "103/103 [==============================] - 1s 9ms/step - loss: 1.0491 - accuracy: 0.6247 - val_loss: 1.1269 - val_accuracy: 0.5864\n",
      "Epoch 119/200\n",
      "103/103 [==============================] - 1s 10ms/step - loss: 1.0143 - accuracy: 0.6423 - val_loss: 1.1109 - val_accuracy: 0.5926\n",
      "Epoch 120/200\n",
      "103/103 [==============================] - 1s 8ms/step - loss: 1.0388 - accuracy: 0.6170 - val_loss: 1.1155 - val_accuracy: 0.5914\n",
      "Epoch 121/200\n",
      "103/103 [==============================] - 1s 7ms/step - loss: 1.0110 - accuracy: 0.6294 - val_loss: 1.0971 - val_accuracy: 0.5975\n",
      "Epoch 122/200\n",
      "103/103 [==============================] - 1s 7ms/step - loss: 1.0254 - accuracy: 0.6123 - val_loss: 1.0968 - val_accuracy: 0.5963\n",
      "Epoch 123/200\n",
      "103/103 [==============================] - 1s 8ms/step - loss: 1.0358 - accuracy: 0.6035 - val_loss: 1.0956 - val_accuracy: 0.5988\n",
      "Epoch 124/200\n",
      "103/103 [==============================] - 1s 7ms/step - loss: 1.0438 - accuracy: 0.6228 - val_loss: 1.1119 - val_accuracy: 0.5852\n",
      "Epoch 125/200\n",
      "103/103 [==============================] - 1s 8ms/step - loss: 1.0311 - accuracy: 0.6296 - val_loss: 1.1029 - val_accuracy: 0.5864\n",
      "Epoch 126/200\n",
      "103/103 [==============================] - 1s 8ms/step - loss: 0.9560 - accuracy: 0.6457 - val_loss: 1.1187 - val_accuracy: 0.6037\n",
      "Epoch 127/200\n",
      "103/103 [==============================] - 1s 8ms/step - loss: 1.0151 - accuracy: 0.6071 - val_loss: 1.0991 - val_accuracy: 0.6000\n",
      "Epoch 128/200\n",
      "103/103 [==============================] - 1s 8ms/step - loss: 1.0086 - accuracy: 0.6333 - val_loss: 1.0850 - val_accuracy: 0.5926\n",
      "Epoch 129/200\n",
      "103/103 [==============================] - 1s 8ms/step - loss: 0.9810 - accuracy: 0.6282 - val_loss: 1.0896 - val_accuracy: 0.5864\n",
      "Epoch 130/200\n",
      "103/103 [==============================] - 1s 8ms/step - loss: 1.0314 - accuracy: 0.6077 - val_loss: 1.0770 - val_accuracy: 0.6012\n",
      "Epoch 131/200\n",
      "103/103 [==============================] - 1s 8ms/step - loss: 1.0256 - accuracy: 0.6142 - val_loss: 1.0793 - val_accuracy: 0.6025\n",
      "Epoch 132/200\n",
      "103/103 [==============================] - 1s 8ms/step - loss: 0.9711 - accuracy: 0.6321 - val_loss: 1.0881 - val_accuracy: 0.5951\n",
      "Epoch 133/200\n",
      "103/103 [==============================] - 1s 12ms/step - loss: 0.9537 - accuracy: 0.6512 - val_loss: 1.0966 - val_accuracy: 0.5815\n",
      "Epoch 134/200\n",
      "103/103 [==============================] - 1s 10ms/step - loss: 1.0016 - accuracy: 0.6196 - val_loss: 1.0654 - val_accuracy: 0.6037\n",
      "Epoch 135/200\n",
      "103/103 [==============================] - 1s 9ms/step - loss: 0.9634 - accuracy: 0.6550 - val_loss: 1.0880 - val_accuracy: 0.5889\n",
      "Epoch 136/200\n",
      "103/103 [==============================] - 1s 8ms/step - loss: 0.9642 - accuracy: 0.6401 - val_loss: 1.0671 - val_accuracy: 0.6086\n",
      "Epoch 137/200\n",
      "103/103 [==============================] - 1s 12ms/step - loss: 0.9743 - accuracy: 0.6533 - val_loss: 1.0571 - val_accuracy: 0.6074\n",
      "Epoch 138/200\n",
      "103/103 [==============================] - 1s 8ms/step - loss: 0.9754 - accuracy: 0.6351 - val_loss: 1.0713 - val_accuracy: 0.6136\n",
      "Epoch 139/200\n",
      "103/103 [==============================] - 1s 8ms/step - loss: 0.9426 - accuracy: 0.6646 - val_loss: 1.0598 - val_accuracy: 0.6074\n",
      "Epoch 140/200\n",
      "103/103 [==============================] - 1s 8ms/step - loss: 0.9613 - accuracy: 0.6400 - val_loss: 1.0589 - val_accuracy: 0.6000\n",
      "Epoch 141/200\n",
      "103/103 [==============================] - 1s 8ms/step - loss: 0.9521 - accuracy: 0.6614 - val_loss: 1.0454 - val_accuracy: 0.6037\n",
      "Epoch 142/200\n",
      "103/103 [==============================] - 1s 7ms/step - loss: 0.9671 - accuracy: 0.6557 - val_loss: 1.0641 - val_accuracy: 0.6000\n",
      "Epoch 143/200\n",
      "103/103 [==============================] - 1s 8ms/step - loss: 0.9148 - accuracy: 0.6744 - val_loss: 1.0727 - val_accuracy: 0.5938\n",
      "Epoch 144/200\n",
      "103/103 [==============================] - 1s 7ms/step - loss: 0.9313 - accuracy: 0.6426 - val_loss: 1.0508 - val_accuracy: 0.6148\n",
      "Epoch 145/200\n",
      "103/103 [==============================] - 1s 8ms/step - loss: 0.9763 - accuracy: 0.6394 - val_loss: 1.0536 - val_accuracy: 0.6086\n",
      "Epoch 146/200\n",
      "103/103 [==============================] - 1s 7ms/step - loss: 0.9104 - accuracy: 0.6637 - val_loss: 1.0404 - val_accuracy: 0.6173\n",
      "Epoch 147/200\n",
      "103/103 [==============================] - 1s 8ms/step - loss: 0.8464 - accuracy: 0.7114 - val_loss: 1.0554 - val_accuracy: 0.6025\n",
      "Epoch 148/200\n",
      "103/103 [==============================] - 1s 8ms/step - loss: 0.9116 - accuracy: 0.6518 - val_loss: 1.0554 - val_accuracy: 0.6136\n",
      "Epoch 149/200\n",
      "103/103 [==============================] - 1s 8ms/step - loss: 0.9357 - accuracy: 0.6568 - val_loss: 1.0259 - val_accuracy: 0.6136\n",
      "Epoch 150/200\n",
      "103/103 [==============================] - 1s 8ms/step - loss: 0.9307 - accuracy: 0.6474 - val_loss: 1.0648 - val_accuracy: 0.6025\n",
      "Epoch 151/200\n",
      "103/103 [==============================] - 1s 8ms/step - loss: 0.9003 - accuracy: 0.6775 - val_loss: 1.0474 - val_accuracy: 0.6012\n",
      "Epoch 152/200\n",
      "103/103 [==============================] - 1s 8ms/step - loss: 0.9282 - accuracy: 0.6588 - val_loss: 1.0218 - val_accuracy: 0.6111\n",
      "Epoch 153/200\n",
      "103/103 [==============================] - 1s 7ms/step - loss: 0.9602 - accuracy: 0.6638 - val_loss: 1.0622 - val_accuracy: 0.5988\n",
      "Epoch 154/200\n",
      "103/103 [==============================] - 1s 8ms/step - loss: 0.9294 - accuracy: 0.6522 - val_loss: 1.0250 - val_accuracy: 0.6259\n",
      "Epoch 155/200\n",
      "103/103 [==============================] - 1s 8ms/step - loss: 0.8652 - accuracy: 0.6965 - val_loss: 1.0274 - val_accuracy: 0.6160\n",
      "Epoch 156/200\n",
      "103/103 [==============================] - 1s 8ms/step - loss: 0.8963 - accuracy: 0.6740 - val_loss: 1.0326 - val_accuracy: 0.6136\n",
      "Epoch 157/200\n",
      "103/103 [==============================] - 1s 8ms/step - loss: 0.9028 - accuracy: 0.6536 - val_loss: 1.0514 - val_accuracy: 0.6086\n",
      "Epoch 158/200\n",
      "103/103 [==============================] - 1s 8ms/step - loss: 0.9062 - accuracy: 0.6743 - val_loss: 1.0228 - val_accuracy: 0.6160\n",
      "Epoch 159/200\n",
      "103/103 [==============================] - 1s 7ms/step - loss: 0.9033 - accuracy: 0.6634 - val_loss: 1.0222 - val_accuracy: 0.6148\n",
      "Epoch 160/200\n",
      "103/103 [==============================] - 1s 8ms/step - loss: 0.9378 - accuracy: 0.6457 - val_loss: 1.0147 - val_accuracy: 0.6123\n",
      "Epoch 161/200\n",
      "103/103 [==============================] - 1s 7ms/step - loss: 0.9277 - accuracy: 0.6513 - val_loss: 1.0219 - val_accuracy: 0.6198\n",
      "Epoch 162/200\n",
      "103/103 [==============================] - 1s 8ms/step - loss: 0.9022 - accuracy: 0.6767 - val_loss: 1.0219 - val_accuracy: 0.6123\n",
      "Epoch 163/200\n",
      "103/103 [==============================] - 1s 7ms/step - loss: 0.8826 - accuracy: 0.6702 - val_loss: 1.0094 - val_accuracy: 0.6358\n",
      "Epoch 164/200\n",
      "103/103 [==============================] - 1s 7ms/step - loss: 0.8197 - accuracy: 0.7209 - val_loss: 1.0070 - val_accuracy: 0.6235\n",
      "Epoch 165/200\n",
      "103/103 [==============================] - 1s 7ms/step - loss: 0.8888 - accuracy: 0.6680 - val_loss: 1.0145 - val_accuracy: 0.6272\n",
      "Epoch 166/200\n",
      "103/103 [==============================] - 1s 7ms/step - loss: 0.8521 - accuracy: 0.6776 - val_loss: 1.0069 - val_accuracy: 0.6235\n",
      "Epoch 167/200\n",
      "103/103 [==============================] - 1s 7ms/step - loss: 0.8646 - accuracy: 0.6975 - val_loss: 1.0268 - val_accuracy: 0.6222\n",
      "Epoch 168/200\n",
      "103/103 [==============================] - 1s 8ms/step - loss: 0.8402 - accuracy: 0.6919 - val_loss: 1.0113 - val_accuracy: 0.6296\n",
      "Epoch 169/200\n",
      "103/103 [==============================] - 1s 8ms/step - loss: 0.8660 - accuracy: 0.6787 - val_loss: 0.9949 - val_accuracy: 0.6444\n",
      "Epoch 170/200\n",
      "103/103 [==============================] - 1s 7ms/step - loss: 0.8619 - accuracy: 0.6794 - val_loss: 1.0498 - val_accuracy: 0.6222\n",
      "Epoch 171/200\n"
     ]
    },
    {
     "name": "stdout",
     "output_type": "stream",
     "text": [
      "103/103 [==============================] - 1s 7ms/step - loss: 0.8713 - accuracy: 0.6727 - val_loss: 1.0125 - val_accuracy: 0.6321\n",
      "Epoch 172/200\n",
      "103/103 [==============================] - 1s 8ms/step - loss: 0.8909 - accuracy: 0.6615 - val_loss: 1.0231 - val_accuracy: 0.6160\n",
      "Epoch 173/200\n",
      "103/103 [==============================] - 1s 8ms/step - loss: 0.8226 - accuracy: 0.6982 - val_loss: 1.0069 - val_accuracy: 0.6296\n",
      "Epoch 174/200\n",
      "103/103 [==============================] - 1s 11ms/step - loss: 0.8394 - accuracy: 0.6903 - val_loss: 1.0034 - val_accuracy: 0.6272\n",
      "Epoch 175/200\n",
      "103/103 [==============================] - 1s 10ms/step - loss: 0.8379 - accuracy: 0.6999 - val_loss: 0.9747 - val_accuracy: 0.6506\n",
      "Epoch 176/200\n",
      "103/103 [==============================] - 1s 12ms/step - loss: 0.8363 - accuracy: 0.6906 - val_loss: 0.9859 - val_accuracy: 0.6198\n",
      "Epoch 177/200\n",
      "103/103 [==============================] - 1s 7ms/step - loss: 0.7932 - accuracy: 0.7064 - val_loss: 0.9891 - val_accuracy: 0.6321\n",
      "Epoch 178/200\n",
      "103/103 [==============================] - 1s 7ms/step - loss: 0.8515 - accuracy: 0.6981 - val_loss: 0.9846 - val_accuracy: 0.6432\n",
      "Epoch 179/200\n",
      "103/103 [==============================] - 1s 8ms/step - loss: 0.8359 - accuracy: 0.6900 - val_loss: 0.9931 - val_accuracy: 0.6358\n",
      "Epoch 180/200\n",
      "103/103 [==============================] - 1s 7ms/step - loss: 0.8521 - accuracy: 0.6802 - val_loss: 1.0114 - val_accuracy: 0.6358\n",
      "Epoch 181/200\n",
      "103/103 [==============================] - 1s 7ms/step - loss: 0.8580 - accuracy: 0.6965 - val_loss: 0.9929 - val_accuracy: 0.6407\n",
      "Epoch 182/200\n",
      "103/103 [==============================] - 1s 7ms/step - loss: 0.8435 - accuracy: 0.6957 - val_loss: 1.0062 - val_accuracy: 0.6370\n",
      "Epoch 183/200\n",
      "103/103 [==============================] - 1s 7ms/step - loss: 0.8131 - accuracy: 0.7122 - val_loss: 0.9671 - val_accuracy: 0.6519\n",
      "Epoch 184/200\n",
      "103/103 [==============================] - 1s 7ms/step - loss: 0.8110 - accuracy: 0.7196 - val_loss: 0.9768 - val_accuracy: 0.6506\n",
      "Epoch 185/200\n",
      "103/103 [==============================] - 1s 7ms/step - loss: 0.7492 - accuracy: 0.7323 - val_loss: 1.0004 - val_accuracy: 0.6272\n",
      "Epoch 186/200\n",
      "103/103 [==============================] - 1s 7ms/step - loss: 0.8192 - accuracy: 0.7087 - val_loss: 0.9805 - val_accuracy: 0.6519\n",
      "Epoch 187/200\n",
      "103/103 [==============================] - 1s 7ms/step - loss: 0.8429 - accuracy: 0.6883 - val_loss: 0.9880 - val_accuracy: 0.6383\n",
      "Epoch 188/200\n",
      "103/103 [==============================] - 1s 7ms/step - loss: 0.7527 - accuracy: 0.7371 - val_loss: 0.9747 - val_accuracy: 0.6432\n",
      "Epoch 189/200\n",
      "103/103 [==============================] - 1s 7ms/step - loss: 0.7916 - accuracy: 0.7016 - val_loss: 0.9652 - val_accuracy: 0.6333\n",
      "Epoch 190/200\n",
      "103/103 [==============================] - 1s 7ms/step - loss: 0.7724 - accuracy: 0.7066 - val_loss: 0.9570 - val_accuracy: 0.6506\n",
      "Epoch 191/200\n",
      "103/103 [==============================] - 1s 8ms/step - loss: 0.8189 - accuracy: 0.6900 - val_loss: 0.9689 - val_accuracy: 0.6494\n",
      "Epoch 192/200\n",
      "103/103 [==============================] - 1s 8ms/step - loss: 0.7962 - accuracy: 0.7111 - val_loss: 0.9646 - val_accuracy: 0.6370\n",
      "Epoch 193/200\n",
      "103/103 [==============================] - 1s 8ms/step - loss: 0.7655 - accuracy: 0.7038 - val_loss: 0.9575 - val_accuracy: 0.6469\n",
      "Epoch 194/200\n",
      "103/103 [==============================] - 1s 8ms/step - loss: 0.7698 - accuracy: 0.7025 - val_loss: 0.9522 - val_accuracy: 0.6457\n",
      "Epoch 195/200\n",
      "103/103 [==============================] - 1s 8ms/step - loss: 0.7721 - accuracy: 0.7262 - val_loss: 0.9604 - val_accuracy: 0.6469\n",
      "Epoch 196/200\n",
      "103/103 [==============================] - 1s 7ms/step - loss: 0.7756 - accuracy: 0.7274 - val_loss: 0.9520 - val_accuracy: 0.6469\n",
      "Epoch 197/200\n",
      "103/103 [==============================] - 1s 8ms/step - loss: 0.7491 - accuracy: 0.7215 - val_loss: 0.9742 - val_accuracy: 0.6444\n",
      "Epoch 198/200\n",
      "103/103 [==============================] - 1s 7ms/step - loss: 0.7620 - accuracy: 0.7304 - val_loss: 0.9406 - val_accuracy: 0.6580\n",
      "Epoch 199/200\n",
      "103/103 [==============================] - 1s 7ms/step - loss: 0.7733 - accuracy: 0.7099 - val_loss: 0.9698 - val_accuracy: 0.6333\n",
      "Epoch 200/200\n",
      "103/103 [==============================] - 1s 7ms/step - loss: 0.7885 - accuracy: 0.6945 - val_loss: 0.9619 - val_accuracy: 0.6444\n"
     ]
    }
   ],
   "source": [
    "cnnhistory=model.fit(x_traincnn, y_train, batch_size=16, epochs=200, validation_data=(x_testcnn, y_test))"
   ]
  },
  {
   "cell_type": "code",
   "execution_count": 76,
   "metadata": {
    "colab": {
     "base_uri": "https://localhost:8080/",
     "height": 295
    },
    "colab_type": "code",
    "id": "WEomk3HUOwSz",
    "outputId": "1cde7e1d-64a5-4c41-b1ef-b68f08982e49"
   },
   "outputs": [
    {
     "data": {
      "image/png": "[encoded data removed]",
      "text/plain": [
       "<Figure size 432x288 with 1 Axes>"
      ]
     },
     "metadata": {
      "needs_background": "light"
     },
     "output_type": "display_data"
    }
   ],
   "source": [
    "plt.plot(cnnhistory.history['loss'])\n",
    "plt.plot(cnnhistory.history['val_loss'])\n",
    "plt.title('model loss')\n",
    "plt.ylabel('loss')\n",
    "plt.xlabel('epoch')\n",
    "plt.legend(['train', 'test'], loc='upper left')\n",
    "plt.show()"
   ]
  },
  {
   "cell_type": "code",
   "execution_count": 77,
   "metadata": {
    "colab": {
     "base_uri": "https://localhost:8080/",
     "height": 295
    },
    "colab_type": "code",
    "id": "n4UNnOn80S_3",
    "outputId": "37e334a6-5adf-4fbb-c478-070c5501c5b3"
   },
   "outputs": [
    {
     "data": {
      "image/png": "[encoded data removed]",
      "text/plain": [
       "<Figure size 432x288 with 1 Axes>"
      ]
     },
     "metadata": {
      "needs_background": "light"
     },
     "output_type": "display_data"
    }
   ],
   "source": [
    "plt.plot(cnnhistory.history['accuracy'])\n",
    "plt.plot(cnnhistory.history['val_accuracy'])\n",
    "plt.title('model accuracy')\n",
    "plt.ylabel('accuracy')\n",
    "plt.xlabel('epoch')\n",
    "plt.legend(['train', 'test'], loc='upper left')\n",
    "plt.show()"
   ]
  },
  {
   "cell_type": "code",
   "execution_count": 78,
   "metadata": {
    "colab": {},
    "colab_type": "code",
    "id": "CSR0-VCVPO81"
   },
   "outputs": [
    {
     "name": "stderr",
     "output_type": "stream",
     "text": [
      "C:\\Users\\ck kalyani\\anaconda3\\lib\\site-packages\\keras\\engine\\sequential.py:450: UserWarning: `model.predict_classes()` is deprecated and will be removed after 2021-01-01. Please use instead:* `np.argmax(model.predict(x), axis=-1)`,   if your model does multi-class classification   (e.g. if it uses a `softmax` last-layer activation).* `(model.predict(x) > 0.5).astype(\"int32\")`,   if your model does binary classification   (e.g. if it uses a `sigmoid` last-layer activation).\n",
      "  warnings.warn('`model.predict_classes()` is deprecated and '\n"
     ]
    }
   ],
   "source": [
    "predictions = model.predict_classes(x_testcnn)"
   ]
  },
  {
   "cell_type": "code",
   "execution_count": 79,
   "metadata": {
    "colab": {
     "base_uri": "https://localhost:8080/",
     "height": 35
    },
    "colab_type": "code",
    "id": "7uKNuzd6PVZi",
    "outputId": "44bc4bc2-057e-47a5-ee3e-8cef839277d3"
   },
   "outputs": [
    {
     "data": {
      "text/plain": [
       "array([2, 2, 3, 1, 1, 1, 0, 4, 4, 4, 1, 6, 5, 2, 1, 2, 5, 4, 4, 2, 6, 4,\n",
       "       3, 1, 6, 2, 5, 6, 7, 7, 4, 6, 3, 4, 0, 3, 1, 3, 4, 3, 1, 3, 2, 3,\n",
       "       2, 4, 3, 3, 5, 3, 3, 3, 6, 0, 2, 4, 5, 0, 5, 7, 1, 3, 5, 3, 0, 5,\n",
       "       2, 4, 0, 3, 4, 6, 6, 5, 3, 2, 2, 0, 5, 3, 6, 3, 3, 0, 4, 4, 0, 4,\n",
       "       5, 5, 1, 3, 4, 2, 2, 3, 5, 5, 4, 0, 6, 1, 1, 7, 5, 2, 7, 2, 5, 2,\n",
       "       7, 4, 4, 5, 1, 1, 1, 1, 7, 1, 3, 1, 6, 6, 2, 2, 3, 2, 2, 3, 3, 0,\n",
       "       6, 7, 0, 4, 3, 7, 7, 1, 3, 1, 3, 5, 4, 2, 1, 1, 2, 4, 6, 5, 6, 0,\n",
       "       6, 3, 3, 4, 5, 4, 4, 1, 4, 5, 3, 0, 6, 2, 3, 1, 3, 2, 1, 5, 1, 5,\n",
       "       1, 7, 7, 2, 3, 1, 1, 2, 0, 6, 1, 4, 7, 1, 3, 3, 5, 3, 0, 3, 1, 0,\n",
       "       4, 1, 1, 5, 3, 3, 7, 4, 7, 6, 3, 5, 0, 3, 3, 3, 4, 0, 2, 1, 1, 2,\n",
       "       6, 3, 5, 3, 3, 5, 1, 1, 2, 4, 0, 7, 5, 4, 2, 0, 4, 5, 5, 3, 3, 5,\n",
       "       5, 5, 3, 0, 4, 5, 3, 3, 1, 5, 2, 4, 1, 4, 7, 2, 5, 0, 3, 1, 2, 1,\n",
       "       1, 3, 2, 2, 7, 7, 1, 6, 6, 2, 1, 2, 0, 0, 2, 1, 4, 7, 5, 1, 6, 5,\n",
       "       3, 3, 5, 0, 6, 0, 1, 1, 5, 6, 6, 5, 5, 4, 2, 0, 0, 3, 6, 5, 7, 5,\n",
       "       1, 6, 2, 0, 1, 1, 6, 1, 3, 2, 6, 3, 5, 5, 3, 1, 4, 7, 6, 1, 6, 5,\n",
       "       2, 5, 2, 2, 3, 1, 1, 4, 0, 3, 3, 1, 4, 2, 1, 7, 5, 2, 1, 4, 2, 7,\n",
       "       1, 2, 3, 5, 1, 7, 2, 0, 0, 4, 2, 0, 4, 4, 7, 4, 3, 1, 5, 1, 4, 2,\n",
       "       3, 3, 3, 6, 5, 1, 4, 4, 1, 5, 0, 1, 7, 5, 7, 2, 1, 4, 4, 4, 1, 4,\n",
       "       1, 2, 7, 1, 3, 7, 3, 7, 3, 7, 3, 5, 1, 5, 3, 3, 3, 3, 0, 5, 4, 4,\n",
       "       1, 6, 5, 7, 3, 0, 1, 1, 3, 0, 1, 4, 4, 1, 0, 3, 6, 4, 5, 6, 7, 4,\n",
       "       5, 3, 4, 2, 6, 2, 3, 5, 5, 1, 1, 6, 7, 3, 1, 1, 6, 4, 3, 3, 4, 6,\n",
       "       5, 6, 6, 6, 4, 2, 2, 0, 5, 3, 3, 5, 1, 7, 4, 2, 3, 6, 7, 5, 5, 1,\n",
       "       5, 0, 4, 4, 3, 1, 2, 3, 6, 7, 0, 3, 3, 7, 3, 5, 2, 3, 7, 2, 6, 5,\n",
       "       5, 3, 1, 1, 2, 3, 1, 2, 1, 3, 3, 4, 5, 3, 1, 1, 4, 2, 5, 7, 4, 7,\n",
       "       4, 4, 1, 4, 1, 5, 5, 2, 3, 2, 0, 0, 3, 6, 1, 7, 5, 7, 1, 2, 3, 2,\n",
       "       4, 5, 0, 0, 1, 1, 5, 5, 5, 2, 3, 2, 4, 1, 4, 1, 4, 6, 6, 5, 1, 1,\n",
       "       5, 3, 3, 3, 4, 5, 2, 0, 3, 5, 0, 0, 6, 5, 3, 3, 7, 3, 4, 4, 7, 1,\n",
       "       4, 4, 3, 3, 2, 3, 7, 3, 6, 4, 4, 5, 0, 5, 0, 6, 1, 6, 6, 7, 4, 3,\n",
       "       7, 2, 5, 5, 3, 0, 0, 3, 5, 5, 0, 2, 3, 2, 1, 1, 3, 4, 3, 7, 3, 6,\n",
       "       3, 3, 7, 4, 2, 1, 5, 5, 7, 0, 1, 5, 6, 3, 4, 1, 0, 4, 7, 3, 3, 6,\n",
       "       1, 1, 3, 1, 5, 4, 1, 3, 0, 3, 5, 0, 1, 2, 7, 3, 3, 5, 0, 1, 0, 4,\n",
       "       4, 3, 4, 5, 3, 0, 5, 1, 4, 3, 1, 3, 3, 4, 3, 1, 1, 2, 3, 7, 1, 3,\n",
       "       0, 5, 4, 4, 7, 2, 4, 1, 1, 0, 7, 0, 2, 0, 2, 1, 6, 4, 5, 1, 5, 5,\n",
       "       3, 7, 2, 1, 2, 5, 4, 3, 4, 5, 0, 0, 1, 5, 5, 0, 2, 0, 2, 6, 2, 5,\n",
       "       5, 5, 4, 7, 2, 5, 7, 6, 3, 5, 5, 5, 4, 4, 3, 5, 1, 3, 1, 5, 2, 0,\n",
       "       3, 3, 2, 5, 4, 7, 0, 6, 6, 7, 5, 1, 2, 4, 2, 5, 6, 5, 5, 2, 0, 4,\n",
       "       3, 4, 2, 1, 5, 3, 5, 5, 2, 0, 1, 4, 5, 3, 2, 7, 3, 0], dtype=int64)"
      ]
     },
     "execution_count": 79,
     "metadata": {},
     "output_type": "execute_result"
    }
   ],
   "source": [
    "predictions"
   ]
  },
  {
   "cell_type": "code",
   "execution_count": 80,
   "metadata": {
    "colab": {
     "base_uri": "https://localhost:8080/",
     "height": 35
    },
    "colab_type": "code",
    "id": "GhfXlBdJQFr9",
    "outputId": "500b7540-7641-41eb-fba1-e7dd0a49c475"
   },
   "outputs": [
    {
     "data": {
      "text/plain": [
       "array([2, 2, 3, 1, 1, 1, 1, 2, 4, 4, 0, 0, 5, 2, 1, 3, 2, 4, 5, 3, 6, 4,\n",
       "       0, 1, 6, 4, 2, 0, 7, 7, 4, 4, 3, 7, 4, 3, 1, 3, 4, 3, 3, 5, 2, 2,\n",
       "       7, 4, 5, 3, 6, 3, 1, 6, 6, 3, 1, 4, 5, 0, 5, 2, 1, 3, 5, 3, 1, 3,\n",
       "       2, 4, 6, 3, 4, 2, 6, 5, 5, 2, 2, 0, 5, 3, 7, 3, 3, 1, 4, 4, 0, 4,\n",
       "       3, 5, 1, 5, 4, 2, 2, 1, 3, 5, 4, 7, 6, 2, 1, 7, 3, 2, 7, 2, 3, 4,\n",
       "       7, 4, 4, 5, 1, 1, 0, 1, 7, 1, 2, 1, 6, 4, 2, 2, 3, 2, 2, 3, 5, 0,\n",
       "       4, 6, 0, 7, 3, 7, 7, 1, 5, 1, 2, 7, 4, 4, 5, 2, 2, 4, 6, 7, 7, 2,\n",
       "       6, 5, 3, 6, 2, 4, 4, 1, 4, 4, 3, 1, 6, 0, 5, 1, 5, 2, 1, 5, 1, 2,\n",
       "       1, 7, 2, 2, 6, 1, 2, 2, 1, 1, 1, 4, 7, 1, 3, 3, 5, 3, 0, 5, 1, 0,\n",
       "       4, 1, 1, 3, 3, 3, 7, 4, 3, 4, 3, 4, 1, 0, 5, 3, 5, 0, 2, 1, 1, 2,\n",
       "       6, 1, 5, 3, 4, 2, 3, 0, 2, 4, 3, 5, 5, 4, 2, 7, 4, 5, 3, 3, 0, 7,\n",
       "       1, 5, 3, 0, 4, 3, 3, 3, 2, 5, 2, 4, 2, 4, 3, 2, 5, 0, 3, 4, 5, 3,\n",
       "       1, 3, 1, 5, 2, 7, 1, 7, 4, 1, 1, 2, 0, 0, 2, 1, 4, 5, 5, 2, 6, 5,\n",
       "       5, 3, 3, 0, 4, 0, 2, 1, 5, 6, 6, 5, 1, 4, 2, 0, 0, 1, 6, 3, 7, 0,\n",
       "       1, 7, 2, 1, 2, 1, 6, 1, 3, 2, 6, 3, 5, 5, 3, 3, 4, 7, 7, 1, 4, 5,\n",
       "       2, 5, 6, 2, 4, 2, 1, 4, 5, 3, 0, 1, 4, 2, 1, 7, 5, 2, 1, 5, 2, 7,\n",
       "       1, 2, 3, 5, 1, 7, 2, 4, 0, 4, 3, 0, 4, 6, 6, 4, 3, 1, 5, 1, 2, 2,\n",
       "       3, 2, 3, 2, 5, 1, 4, 4, 1, 2, 2, 1, 7, 5, 4, 3, 2, 4, 4, 4, 1, 4,\n",
       "       1, 2, 7, 2, 2, 3, 7, 7, 3, 4, 5, 5, 1, 5, 3, 5, 3, 4, 1, 5, 4, 4,\n",
       "       3, 6, 5, 7, 3, 0, 1, 0, 3, 0, 1, 4, 4, 1, 0, 1, 3, 2, 3, 6, 2, 4,\n",
       "       2, 6, 4, 2, 7, 2, 3, 5, 1, 1, 1, 7, 5, 0, 1, 1, 4, 4, 5, 3, 4, 3,\n",
       "       5, 6, 4, 6, 4, 2, 2, 0, 5, 3, 5, 7, 3, 7, 4, 3, 5, 6, 6, 5, 5, 1,\n",
       "       5, 6, 4, 4, 3, 1, 2, 3, 6, 2, 0, 1, 3, 4, 3, 5, 7, 5, 3, 2, 2, 5,\n",
       "       7, 0, 1, 1, 2, 3, 6, 2, 1, 3, 1, 4, 5, 3, 1, 1, 5, 7, 5, 7, 4, 7,\n",
       "       5, 4, 1, 4, 1, 6, 5, 2, 3, 2, 6, 0, 3, 2, 4, 7, 5, 2, 1, 2, 5, 2,\n",
       "       2, 2, 0, 5, 1, 1, 3, 6, 5, 2, 3, 2, 4, 2, 4, 1, 7, 3, 7, 5, 1, 1,\n",
       "       2, 3, 3, 3, 5, 2, 2, 1, 2, 5, 6, 0, 6, 5, 3, 4, 7, 5, 4, 2, 4, 1,\n",
       "       4, 4, 2, 3, 2, 2, 2, 3, 6, 4, 4, 5, 0, 3, 6, 6, 1, 6, 2, 7, 4, 3,\n",
       "       7, 4, 5, 5, 2, 0, 0, 1, 5, 5, 4, 3, 5, 2, 1, 1, 3, 4, 7, 7, 2, 6,\n",
       "       7, 3, 6, 4, 2, 1, 5, 5, 7, 0, 1, 5, 3, 4, 4, 1, 1, 4, 4, 4, 3, 7,\n",
       "       2, 1, 5, 1, 6, 7, 1, 5, 1, 5, 1, 0, 1, 2, 3, 3, 1, 5, 4, 1, 3, 4,\n",
       "       5, 3, 6, 6, 6, 0, 3, 1, 4, 3, 1, 1, 3, 4, 3, 1, 0, 2, 3, 7, 1, 3,\n",
       "       3, 5, 4, 2, 5, 2, 6, 1, 1, 0, 7, 6, 2, 0, 2, 3, 7, 3, 5, 1, 5, 5,\n",
       "       5, 6, 5, 1, 2, 5, 2, 4, 4, 5, 0, 0, 1, 5, 5, 0, 2, 0, 7, 6, 2, 5,\n",
       "       5, 4, 5, 7, 5, 1, 7, 6, 4, 5, 5, 5, 4, 4, 3, 4, 1, 5, 1, 5, 2, 0,\n",
       "       3, 3, 2, 5, 4, 6, 0, 2, 6, 6, 5, 1, 2, 4, 2, 3, 1, 5, 5, 2, 1, 4,\n",
       "       5, 7, 0, 1, 2, 3, 5, 4, 2, 0, 6, 4, 5, 0, 2, 7, 3, 0])"
      ]
     },
     "execution_count": 80,
     "metadata": {},
     "output_type": "execute_result"
    }
   ],
   "source": [
    "y_test"
   ]
  },
  {
   "cell_type": "code",
   "execution_count": 81,
   "metadata": {
    "colab": {},
    "colab_type": "code",
    "id": "FC1heRemQJHA"
   },
   "outputs": [],
   "source": [
    "new_Ytest = y_test.astype(int)"
   ]
  },
  {
   "cell_type": "code",
   "execution_count": 82,
   "metadata": {
    "colab": {
     "base_uri": "https://localhost:8080/",
     "height": 35
    },
    "colab_type": "code",
    "id": "65ZqfKMHQNBY",
    "outputId": "d1f51eb3-ab89-492a-adc3-0d770a342096"
   },
   "outputs": [
    {
     "data": {
      "text/plain": [
       "array([2, 2, 3, 1, 1, 1, 1, 2, 4, 4, 0, 0, 5, 2, 1, 3, 2, 4, 5, 3, 6, 4,\n",
       "       0, 1, 6, 4, 2, 0, 7, 7, 4, 4, 3, 7, 4, 3, 1, 3, 4, 3, 3, 5, 2, 2,\n",
       "       7, 4, 5, 3, 6, 3, 1, 6, 6, 3, 1, 4, 5, 0, 5, 2, 1, 3, 5, 3, 1, 3,\n",
       "       2, 4, 6, 3, 4, 2, 6, 5, 5, 2, 2, 0, 5, 3, 7, 3, 3, 1, 4, 4, 0, 4,\n",
       "       3, 5, 1, 5, 4, 2, 2, 1, 3, 5, 4, 7, 6, 2, 1, 7, 3, 2, 7, 2, 3, 4,\n",
       "       7, 4, 4, 5, 1, 1, 0, 1, 7, 1, 2, 1, 6, 4, 2, 2, 3, 2, 2, 3, 5, 0,\n",
       "       4, 6, 0, 7, 3, 7, 7, 1, 5, 1, 2, 7, 4, 4, 5, 2, 2, 4, 6, 7, 7, 2,\n",
       "       6, 5, 3, 6, 2, 4, 4, 1, 4, 4, 3, 1, 6, 0, 5, 1, 5, 2, 1, 5, 1, 2,\n",
       "       1, 7, 2, 2, 6, 1, 2, 2, 1, 1, 1, 4, 7, 1, 3, 3, 5, 3, 0, 5, 1, 0,\n",
       "       4, 1, 1, 3, 3, 3, 7, 4, 3, 4, 3, 4, 1, 0, 5, 3, 5, 0, 2, 1, 1, 2,\n",
       "       6, 1, 5, 3, 4, 2, 3, 0, 2, 4, 3, 5, 5, 4, 2, 7, 4, 5, 3, 3, 0, 7,\n",
       "       1, 5, 3, 0, 4, 3, 3, 3, 2, 5, 2, 4, 2, 4, 3, 2, 5, 0, 3, 4, 5, 3,\n",
       "       1, 3, 1, 5, 2, 7, 1, 7, 4, 1, 1, 2, 0, 0, 2, 1, 4, 5, 5, 2, 6, 5,\n",
       "       5, 3, 3, 0, 4, 0, 2, 1, 5, 6, 6, 5, 1, 4, 2, 0, 0, 1, 6, 3, 7, 0,\n",
       "       1, 7, 2, 1, 2, 1, 6, 1, 3, 2, 6, 3, 5, 5, 3, 3, 4, 7, 7, 1, 4, 5,\n",
       "       2, 5, 6, 2, 4, 2, 1, 4, 5, 3, 0, 1, 4, 2, 1, 7, 5, 2, 1, 5, 2, 7,\n",
       "       1, 2, 3, 5, 1, 7, 2, 4, 0, 4, 3, 0, 4, 6, 6, 4, 3, 1, 5, 1, 2, 2,\n",
       "       3, 2, 3, 2, 5, 1, 4, 4, 1, 2, 2, 1, 7, 5, 4, 3, 2, 4, 4, 4, 1, 4,\n",
       "       1, 2, 7, 2, 2, 3, 7, 7, 3, 4, 5, 5, 1, 5, 3, 5, 3, 4, 1, 5, 4, 4,\n",
       "       3, 6, 5, 7, 3, 0, 1, 0, 3, 0, 1, 4, 4, 1, 0, 1, 3, 2, 3, 6, 2, 4,\n",
       "       2, 6, 4, 2, 7, 2, 3, 5, 1, 1, 1, 7, 5, 0, 1, 1, 4, 4, 5, 3, 4, 3,\n",
       "       5, 6, 4, 6, 4, 2, 2, 0, 5, 3, 5, 7, 3, 7, 4, 3, 5, 6, 6, 5, 5, 1,\n",
       "       5, 6, 4, 4, 3, 1, 2, 3, 6, 2, 0, 1, 3, 4, 3, 5, 7, 5, 3, 2, 2, 5,\n",
       "       7, 0, 1, 1, 2, 3, 6, 2, 1, 3, 1, 4, 5, 3, 1, 1, 5, 7, 5, 7, 4, 7,\n",
       "       5, 4, 1, 4, 1, 6, 5, 2, 3, 2, 6, 0, 3, 2, 4, 7, 5, 2, 1, 2, 5, 2,\n",
       "       2, 2, 0, 5, 1, 1, 3, 6, 5, 2, 3, 2, 4, 2, 4, 1, 7, 3, 7, 5, 1, 1,\n",
       "       2, 3, 3, 3, 5, 2, 2, 1, 2, 5, 6, 0, 6, 5, 3, 4, 7, 5, 4, 2, 4, 1,\n",
       "       4, 4, 2, 3, 2, 2, 2, 3, 6, 4, 4, 5, 0, 3, 6, 6, 1, 6, 2, 7, 4, 3,\n",
       "       7, 4, 5, 5, 2, 0, 0, 1, 5, 5, 4, 3, 5, 2, 1, 1, 3, 4, 7, 7, 2, 6,\n",
       "       7, 3, 6, 4, 2, 1, 5, 5, 7, 0, 1, 5, 3, 4, 4, 1, 1, 4, 4, 4, 3, 7,\n",
       "       2, 1, 5, 1, 6, 7, 1, 5, 1, 5, 1, 0, 1, 2, 3, 3, 1, 5, 4, 1, 3, 4,\n",
       "       5, 3, 6, 6, 6, 0, 3, 1, 4, 3, 1, 1, 3, 4, 3, 1, 0, 2, 3, 7, 1, 3,\n",
       "       3, 5, 4, 2, 5, 2, 6, 1, 1, 0, 7, 6, 2, 0, 2, 3, 7, 3, 5, 1, 5, 5,\n",
       "       5, 6, 5, 1, 2, 5, 2, 4, 4, 5, 0, 0, 1, 5, 5, 0, 2, 0, 7, 6, 2, 5,\n",
       "       5, 4, 5, 7, 5, 1, 7, 6, 4, 5, 5, 5, 4, 4, 3, 4, 1, 5, 1, 5, 2, 0,\n",
       "       3, 3, 2, 5, 4, 6, 0, 2, 6, 6, 5, 1, 2, 4, 2, 3, 1, 5, 5, 2, 1, 4,\n",
       "       5, 7, 0, 1, 2, 3, 5, 4, 2, 0, 6, 4, 5, 0, 2, 7, 3, 0])"
      ]
     },
     "execution_count": 82,
     "metadata": {},
     "output_type": "execute_result"
    }
   ],
   "source": [
    "new_Ytest"
   ]
  },
  {
   "cell_type": "code",
   "execution_count": 83,
   "metadata": {
    "colab": {
     "base_uri": "https://localhost:8080/",
     "height": 284
    },
    "colab_type": "code",
    "id": "wK2gsnN-QO1C",
    "outputId": "fdd8cf81-901f-42a9-ac51-0cbe2fbad867"
   },
   "outputs": [
    {
     "name": "stdout",
     "output_type": "stream",
     "text": [
      "              precision    recall  f1-score   support\n",
      "\n",
      "           0       0.57      0.71      0.63        59\n",
      "           1       0.77      0.76      0.76       131\n",
      "           2       0.75      0.56      0.64       128\n",
      "           3       0.54      0.66      0.59       123\n",
      "           4       0.77      0.69      0.73       121\n",
      "           5       0.63      0.63      0.63       125\n",
      "           6       0.48      0.51      0.49        59\n",
      "           7       0.56      0.55      0.55        64\n",
      "\n",
      "    accuracy                           0.64       810\n",
      "   macro avg       0.63      0.63      0.63       810\n",
      "weighted avg       0.66      0.64      0.65       810\n",
      "\n"
     ]
    }
   ],
   "source": [
    "from sklearn.metrics import classification_report\n",
    "report = classification_report(new_Ytest, predictions)\n",
    "print(report)"
   ]
  },
  {
   "cell_type": "code",
   "execution_count": 84,
   "metadata": {
    "colab": {
     "base_uri": "https://localhost:8080/",
     "height": 159
    },
    "colab_type": "code",
    "id": "XipKuFRTQSFj",
    "outputId": "c55049fe-4461-4899-e70a-87555479dd4c"
   },
   "outputs": [
    {
     "name": "stdout",
     "output_type": "stream",
     "text": [
      "[[42  5  2  7  0  1  2  0]\n",
      " [12 99  3 10  0  5  2  0]\n",
      " [ 2 13 72 10  7 11  6  7]\n",
      " [ 4  7  6 81  1 15  4  5]\n",
      " [ 4  2  4  8 84  5  9  5]\n",
      " [ 2  1  4 27  8 79  0  4]\n",
      " [ 6  2  1  4  4  5 30  7]\n",
      " [ 2  0  4  3  5  5 10 35]]\n"
     ]
    }
   ],
   "source": [
    "from sklearn.metrics import confusion_matrix\n",
    "matrix = confusion_matrix(new_Ytest, predictions)\n",
    "print (matrix)\n",
    "\n",
    "# 0 = neutral, 1 = calm, 2 = happy, 3 = sad, 4 = angry, 5 = fearful, 6 = disgust, 7 = surprised"
   ]
  },
  {
   "cell_type": "code",
   "execution_count": 85,
   "metadata": {
    "colab": {
     "base_uri": "https://localhost:8080/",
     "height": 35
    },
    "colab_type": "code",
    "id": "ORm3pz9NQdlW",
    "outputId": "a50537b9-f833-4d66-cafb-eec3f3fd219a"
   },
   "outputs": [
    {
     "name": "stdout",
     "output_type": "stream",
     "text": [
      "MODEL SAVED\n"
     ]
    }
   ],
   "source": [
    "model.save('testing10_model.h5')\n",
    "print(\"MODEL SAVED\")"
   ]
  },
  {
   "cell_type": "code",
   "execution_count": 88,
   "metadata": {
    "colab": {
     "base_uri": "https://localhost:8080/",
     "height": 657
    },
    "colab_type": "code",
    "id": "6aFHzp7PQvMJ",
    "outputId": "fcd82c73-683a-4dde-c866-aafaa285fa66"
   },
   "outputs": [
    {
     "name": "stdout",
     "output_type": "stream",
     "text": [
      "Model: \"sequential_1\"\n",
      "_________________________________________________________________\n",
      "Layer (type)                 Output Shape              Param #   \n",
      "=================================================================\n",
      "conv1d_3 (Conv1D)            (None, 40, 64)            384       \n",
      "_________________________________________________________________\n",
      "activation_4 (Activation)    (None, 40, 64)            0         \n",
      "_________________________________________________________________\n",
      "dropout_3 (Dropout)          (None, 40, 64)            0         \n",
      "_________________________________________________________________\n",
      "max_pooling1d_2 (MaxPooling1 (None, 10, 64)            0         \n",
      "_________________________________________________________________\n",
      "conv1d_4 (Conv1D)            (None, 10, 128)           41088     \n",
      "_________________________________________________________________\n",
      "activation_5 (Activation)    (None, 10, 128)           0         \n",
      "_________________________________________________________________\n",
      "dropout_4 (Dropout)          (None, 10, 128)           0         \n",
      "_________________________________________________________________\n",
      "max_pooling1d_3 (MaxPooling1 (None, 2, 128)            0         \n",
      "_________________________________________________________________\n",
      "conv1d_5 (Conv1D)            (None, 2, 256)            164096    \n",
      "_________________________________________________________________\n",
      "activation_6 (Activation)    (None, 2, 256)            0         \n",
      "_________________________________________________________________\n",
      "dropout_5 (Dropout)          (None, 2, 256)            0         \n",
      "_________________________________________________________________\n",
      "flatten_1 (Flatten)          (None, 512)               0         \n",
      "_________________________________________________________________\n",
      "dense_1 (Dense)              (None, 8)                 4104      \n",
      "_________________________________________________________________\n",
      "activation_7 (Activation)    (None, 8)                 0         \n",
      "=================================================================\n",
      "Total params: 209,672\n",
      "Trainable params: 209,672\n",
      "Non-trainable params: 0\n",
      "_________________________________________________________________\n"
     ]
    }
   ],
   "source": [
    "new_model=keras.models.load_model('testing10_model.h5')\n",
    "new_model.summary()"
   ]
  },
  {
   "cell_type": "code",
   "execution_count": 89,
   "metadata": {},
   "outputs": [
    {
     "name": "stdout",
     "output_type": "stream",
     "text": [
      "26/26 [==============================] - 1s 3ms/step - loss: 0.9619 - accuracy: 0.6444\n",
      "Restored model, accuracy: 64.44%\n"
     ]
    }
   ],
   "source": [
    "loss, acc = new_model.evaluate(x_testcnn, y_test)\n",
    "print(\"Restored model, accuracy: {:5.2f}%\".format(100*acc))"
   ]
  },
  {
   "cell_type": "code",
   "execution_count": null,
   "metadata": {},
   "outputs": [],
   "source": [
    "less data less accuracy\n",
    "but appudu 80% accuracy unde kada\n",
    "it will depends on what data we provided but u will get "
   ]
  }
 ],
 "metadata": {
  "colab": {
   "collapsed_sections": [],
   "name": "Testing10(Deep Learning).ipynb",
   "provenance": []
  },
  "kernelspec": {
   "display_name": "Python 3",
   "language": "python",
   "name": "python3"
  },
  "language_info": {
   "codemirror_mode": {
    "name": "ipython",
    "version": 3
   },
   "file_extension": ".py",
   "mimetype": "text/x-python",
   "name": "python",
   "nbconvert_exporter": "python",
   "pygments_lexer": "ipython3",
   "version": "3.8.8"
  }
 },
 "nbformat": 4,
 "nbformat_minor": 1
}
