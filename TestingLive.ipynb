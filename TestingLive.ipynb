{
 "cells": [
  {
   "cell_type": "code",
   "execution_count": null,
   "metadata": {},
   "outputs": [],
   "source": [
    "# !pip install pyttsx3\n",
    "# !pip install sounddevice"
   ]
  },
  {
   "cell_type": "code",
   "execution_count": 2,
   "metadata": {
    "colab": {
     "base_uri": "https://localhost:8080/",
     "height": 527
    },
    "colab_type": "code",
    "id": "Yu6WYdNRRvJ_",
    "outputId": "b58d94b2-44f0-4d17-aa8f-56e67eff35d6",
    "scrolled": true
   },
   "outputs": [
    {
     "name": "stdout",
     "output_type": "stream",
     "text": [
      "recording....\n",
      "Model: \"sequential_1\"\n",
      "_________________________________________________________________\n",
      "Layer (type)                 Output Shape              Param #   \n",
      "=================================================================\n",
      "conv1d_3 (Conv1D)            (None, 40, 64)            384       \n",
      "_________________________________________________________________\n",
      "activation_4 (Activation)    (None, 40, 64)            0         \n",
      "_________________________________________________________________\n",
      "dropout_3 (Dropout)          (None, 40, 64)            0         \n",
      "_________________________________________________________________\n",
      "max_pooling1d_2 (MaxPooling1 (None, 10, 64)            0         \n",
      "_________________________________________________________________\n",
      "conv1d_4 (Conv1D)            (None, 10, 128)           41088     \n",
      "_________________________________________________________________\n",
      "activation_5 (Activation)    (None, 10, 128)           0         \n",
      "_________________________________________________________________\n",
      "dropout_4 (Dropout)          (None, 10, 128)           0         \n",
      "_________________________________________________________________\n",
      "max_pooling1d_3 (MaxPooling1 (None, 2, 128)            0         \n",
      "_________________________________________________________________\n",
      "conv1d_5 (Conv1D)            (None, 2, 256)            164096    \n",
      "_________________________________________________________________\n",
      "activation_6 (Activation)    (None, 2, 256)            0         \n",
      "_________________________________________________________________\n",
      "dropout_5 (Dropout)          (None, 2, 256)            0         \n",
      "_________________________________________________________________\n",
      "flatten_1 (Flatten)          (None, 512)               0         \n",
      "_________________________________________________________________\n",
      "dense_1 (Dense)              (None, 8)                 4104      \n",
      "_________________________________________________________________\n",
      "activation_7 (Activation)    (None, 8)                 0         \n",
      "=================================================================\n",
      "Total params: 209,672\n",
      "Trainable params: 209,672\n",
      "Non-trainable params: 0\n",
      "_________________________________________________________________\n",
      "disgust\n"
     ]
    }
   ],
   "source": [
    "\"\"\"\n",
    "This file can be used to try a live prediction. \n",
    "\"\"\"\n",
    "import pyttsx3\n",
    "import keras\n",
    "import numpy as np\n",
    "import librosa\n",
    "import sounddevice\n",
    "from scipy.io.wavfile import write\n",
    "engine = pyttsx3.init()\n",
    "engine.setProperty('volume',1.0)\n",
    "engine.setProperty('rate', 100)\n",
    "engine.say(\"Speak something\")\n",
    "engine.runAndWait()\n",
    "fs = 44100\n",
    "second = 5\n",
    "print(\"recording....\")\n",
    "record_voice = sounddevice.rec(int(second*fs),samplerate=fs,channels=2)\n",
    "sounddevice.wait()\n",
    "write(\"output1.wav\",fs,record_voice)\n",
    "class livePredictions:\n",
    "    \"\"\"\n",
    "    Main class of the application.\n",
    "    \"\"\"\n",
    "\n",
    "    def __init__(self, path, file):\n",
    "        \"\"\"\n",
    "        Init method is used to initialize the main parameters.\n",
    "        \"\"\"\n",
    "        self.path = path\n",
    "        self.file = file\n",
    "\n",
    "    def load_model(self):\n",
    "        \"\"\"\n",
    "        Method to load the chosen model.\n",
    "        :param path: path to your h5 model.\n",
    "        :return: summary of the model with the .summary() function.\n",
    "        \"\"\"\n",
    "        self.loaded_model = keras.models.load_model(self.path)\n",
    "        return self.loaded_model.summary()\n",
    "\n",
    "    def makepredictions(self):\n",
    "        \"\"\"\n",
    "        Method to process the files and create your features.\n",
    "        \"\"\"\n",
    "        data, sampling_rate = librosa.load(self.file)\n",
    "        mfccs = np.mean(librosa.feature.mfcc(y=data, sr=sampling_rate, n_mfcc=40).T, axis=0)\n",
    "        x = np.expand_dims(mfccs, axis=1)\n",
    "        x = np.expand_dims(x, axis=0)\n",
    "        predictions = self.loaded_model.predict_classes(x)\n",
    "        engine = pyttsx3.init()\n",
    "        engine.setProperty('volume',1.0)\n",
    "        engine.setProperty('rate', 100)\n",
    "        engine.say(\"the person is \"+self.convertclasstoemotion(predictions))\n",
    "        engine.runAndWait()\n",
    "        print(self.convertclasstoemotion(predictions))\n",
    "\n",
    "    @staticmethod\n",
    "    def convertclasstoemotion(pred):\n",
    "        \"\"\"\n",
    "        Method to convert the predictions (int) into human readable strings.\n",
    "        \"\"\"\n",
    "        \n",
    "        label_conversion = {'0': 'neutral',\n",
    "                            '1': 'calm',\n",
    "                            '2': 'happy',\n",
    "                            '3': 'sad',\n",
    "                            '4': 'angry',\n",
    "                            '5': 'fearful',\n",
    "                            '6': 'disgust',\n",
    "                            '7': 'surprised'}\n",
    "\n",
    "        for key, value in label_conversion.items():\n",
    "            if int(key) == pred:\n",
    "                label = value\n",
    "        return label\n",
    "\n",
    "# Here you can replace path and file with the path of your model and of the file \n",
    "#from the RAVDESS dataset you want to use for the prediction,\n",
    "# Below, I have used a neutral file: the prediction made is neutral.\n",
    "\n",
    "pred = livePredictions(path='testing10_model.h5',file='output1.wav')\n",
    "\n",
    "pred.load_model()\n",
    "a = pred.makepredictions()"
   ]
  },
  {
   "cell_type": "code",
   "execution_count": null,
   "metadata": {
    "colab": {},
    "colab_type": "code",
    "id": "z-UI3bEYsmVs"
   },
   "outputs": [],
   "source": []
  },
  {
   "cell_type": "code",
   "execution_count": 19,
   "metadata": {
    "collapsed": true
   },
   "outputs": [
    {
     "ename": "SyntaxError",
     "evalue": "invalid syntax (<ipython-input-19-6fe24402868b>, line 1)",
     "output_type": "error",
     "traceback": [
      "\u001b[1;36m  File \u001b[1;32m\"<ipython-input-19-6fe24402868b>\"\u001b[1;36m, line \u001b[1;32m1\u001b[0m\n\u001b[1;33m    what vide\u001b[0m\n\u001b[1;37m         ^\u001b[0m\n\u001b[1;31mSyntaxError\u001b[0m\u001b[1;31m:\u001b[0m invalid syntax\n"
     ]
    }
   ],
   "source": []
  },
  {
   "cell_type": "code",
   "execution_count": 25,
   "metadata": {},
   "outputs": [
    {
     "ename": "SyntaxError",
     "evalue": "invalid syntax (<ipython-input-25-4cec2c718749>, line 1)",
     "output_type": "error",
     "traceback": [
      "\u001b[1;36m  File \u001b[1;32m\"<ipython-input-25-4cec2c718749>\"\u001b[1;36m, line \u001b[1;32m1\u001b[0m\n\u001b[1;33m    play them\u001b[0m\n\u001b[1;37m         ^\u001b[0m\n\u001b[1;31mSyntaxError\u001b[0m\u001b[1;31m:\u001b[0m invalid syntax\n"
     ]
    }
   ],
   "source": []
  },
  {
   "cell_type": "code",
   "execution_count": null,
   "metadata": {},
   "outputs": [],
   "source": []
  },
  {
   "cell_type": "code",
   "execution_count": 12,
   "metadata": {},
   "outputs": [
    {
     "ename": "NameError",
     "evalue": "name 'ok' is not defined",
     "output_type": "error",
     "traceback": [
      "\u001b[1;31m---------------------------------------------------------------------------\u001b[0m",
      "\u001b[1;31mNameError\u001b[0m                                 Traceback (most recent call last)",
      "\u001b[1;32m<ipython-input-12-92a949fd4184>\u001b[0m in \u001b[0;36m<module>\u001b[1;34m\u001b[0m\n\u001b[1;32m----> 1\u001b[1;33m \u001b[0mok\u001b[0m\u001b[1;33m\u001b[0m\u001b[1;33m\u001b[0m\u001b[0m\n\u001b[0m",
      "\u001b[1;31mNameError\u001b[0m: name 'ok' is not defined"
     ]
    }
   ],
   "source": []
  },
  {
   "cell_type": "code",
   "execution_count": null,
   "metadata": {},
   "outputs": [],
   "source": []
  },
  {
   "cell_type": "code",
   "execution_count": null,
   "metadata": {},
   "outputs": [],
   "source": []
  },
  {
   "cell_type": "code",
   "execution_count": null,
   "metadata": {},
   "outputs": [],
   "source": []
  },
  {
   "cell_type": "code",
   "execution_count": null,
   "metadata": {},
   "outputs": [],
   "source": []
  },
  {
   "cell_type": "code",
   "execution_count": null,
   "metadata": {},
   "outputs": [],
   "source": []
  },
  {
   "cell_type": "code",
   "execution_count": null,
   "metadata": {},
   "outputs": [],
   "source": []
  },
  {
   "cell_type": "code",
   "execution_count": null,
   "metadata": {},
   "outputs": [],
   "source": []
  },
  {
   "cell_type": "code",
   "execution_count": null,
   "metadata": {},
   "outputs": [],
   "source": []
  },
  {
   "cell_type": "code",
   "execution_count": 16,
   "metadata": {},
   "outputs": [
    {
     "ename": "SyntaxError",
     "evalue": "invalid syntax (<ipython-input-16-e45bd0681b57>, line 1)",
     "output_type": "error",
     "traceback": [
      "\u001b[1;36m  File \u001b[1;32m\"<ipython-input-16-e45bd0681b57>\"\u001b[1;36m, line \u001b[1;32m1\u001b[0m\n\u001b[1;33m    u run once\u001b[0m\n\u001b[1;37m      ^\u001b[0m\n\u001b[1;31mSyntaxError\u001b[0m\u001b[1;31m:\u001b[0m invalid syntax\n"
     ]
    }
   ],
   "source": []
  },
  {
   "cell_type": "code",
   "execution_count": null,
   "metadata": {},
   "outputs": [],
   "source": []
  }
 ],
 "metadata": {
  "colab": {
   "collapsed_sections": [],
   "name": "TestingLive.ipynb",
   "provenance": []
  },
  "kernelspec": {
   "display_name": "Python 3",
   "language": "python",
   "name": "python3"
  },
  "language_info": {
   "codemirror_mode": {
    "name": "ipython",
    "version": 3
   },
   "file_extension": ".py",
   "mimetype": "text/x-python",
   "name": "python",
   "nbconvert_exporter": "python",
   "pygments_lexer": "ipython3",
   "version": "3.8.8"
  }
 },
 "nbformat": 4,
 "nbformat_minor": 1
}
